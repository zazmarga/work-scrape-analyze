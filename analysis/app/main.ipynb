{
 "cells": [
  {
   "cell_type": "markdown",
   "id": "74941bcd5ac1d89c",
   "metadata": {},
   "source": [
    "#### Import Required Libraries\n",
    "This cell imports essential Python libraries for data manipulation and numerical computations:"
   ]
  },
  {
   "cell_type": "code",
   "execution_count": 1,
   "id": "99dbc66b",
   "metadata": {
    "ExecuteTime": {
     "end_time": "2025-07-28T18:15:14.350942Z",
     "start_time": "2025-07-28T18:15:12.130460Z"
    }
   },
   "outputs": [],
   "source": [
    "import pandas as pd\n",
    "import numpy as np"
   ]
  },
  {
   "cell_type": "markdown",
   "id": "c9d3c8c127dabea",
   "metadata": {},
   "source": [
    "#### Define Project and Data Paths"
   ]
  },
  {
   "cell_type": "code",
   "execution_count": 2,
   "id": "a9b94f95",
   "metadata": {
    "ExecuteTime": {
     "end_time": "2025-07-28T18:15:17.950878Z",
     "start_time": "2025-07-28T18:15:17.941195Z"
    }
   },
   "outputs": [
    {
     "data": {
      "text/plain": [
       "WindowsPath('C:/Users/zazul/projects/work-scrape-analyze/data')"
      ]
     },
     "execution_count": 2,
     "metadata": {},
     "output_type": "execute_result"
    }
   ],
   "source": [
    "import os\n",
    "from pathlib import Path\n",
    "notebook_dir = Path().resolve()   # current dir (with main.ipynb)\n",
    "abs_path = notebook_dir.parents[1]\n",
    "data_path = abs_path / \"data\"  # up one\n",
    "data_path"
   ]
  },
  {
   "cell_type": "markdown",
   "id": "9c620eaaa4758c56",
   "metadata": {},
   "source": [
    "#### Load Job Listings Data\n",
    "Reads IT job data from a `it_jobs.jl` file into a pandas DataFrame."
   ]
  },
  {
   "cell_type": "code",
   "execution_count": 3,
   "id": "bc9cd9ac",
   "metadata": {
    "ExecuteTime": {
     "end_time": "2025-07-28T18:15:22.515445Z",
     "start_time": "2025-07-28T18:15:22.345057Z"
    }
   },
   "outputs": [
    {
     "data": {
      "text/html": [
       "<div>\n",
       "<style scoped>\n",
       "    .dataframe tbody tr th:only-of-type {\n",
       "        vertical-align: middle;\n",
       "    }\n",
       "\n",
       "    .dataframe tbody tr th {\n",
       "        vertical-align: top;\n",
       "    }\n",
       "\n",
       "    .dataframe thead th {\n",
       "        text-align: right;\n",
       "    }\n",
       "</style>\n",
       "<table border=\"1\" class=\"dataframe\">\n",
       "  <thead>\n",
       "    <tr style=\"text-align: right;\">\n",
       "      <th></th>\n",
       "      <th>job_id</th>\n",
       "      <th>job_url</th>\n",
       "      <th>title</th>\n",
       "      <th>job_data</th>\n",
       "      <th>requirements</th>\n",
       "    </tr>\n",
       "  </thead>\n",
       "  <tbody>\n",
       "    <tr>\n",
       "      <th>0</th>\n",
       "      <td>6833869</td>\n",
       "      <td>https://www.work.ua/jobs/6833869/</td>\n",
       "      <td>Конструктор одягу</td>\n",
       "      <td>{'Зарплата': '35000-45000 грн, Ставка + KPI', ...</td>\n",
       "      <td>[Уважність, Знання САПР, Clo3D]</td>\n",
       "    </tr>\n",
       "    <tr>\n",
       "      <th>1</th>\n",
       "      <td>6869512</td>\n",
       "      <td>https://www.work.ua/jobs/6869512/</td>\n",
       "      <td>Різноробочий на будівництво, озеленення</td>\n",
       "      <td>{'Зарплата': '25000-30000 грн, За результатами...</td>\n",
       "      <td>[Відповідальність, Активність, Дизайн, Уважніс...</td>\n",
       "    </tr>\n",
       "    <tr>\n",
       "      <th>2</th>\n",
       "      <td>6709504</td>\n",
       "      <td>https://www.work.ua/jobs/6709504/</td>\n",
       "      <td>Відеооператор, режисер монтажу</td>\n",
       "      <td>{'Зарплата': '29000 грн', 'Дані про компанію':...</td>\n",
       "      <td>[Adobe Premiere Pro, Adobe, Робота в команді, ...</td>\n",
       "    </tr>\n",
       "    <tr>\n",
       "      <th>3</th>\n",
       "      <td>6763612</td>\n",
       "      <td>https://www.work.ua/jobs/6763612/</td>\n",
       "      <td>Закрійник, швея-кравець в ательє</td>\n",
       "      <td>{'Зарплата': '30000-40000 грн, Процентна ставк...</td>\n",
       "      <td>[Пошиття одягу, Шиття, Ремонт одягу]</td>\n",
       "    </tr>\n",
       "    <tr>\n",
       "      <th>4</th>\n",
       "      <td>6418075</td>\n",
       "      <td>https://www.work.ua/jobs/6418075/</td>\n",
       "      <td>Моушн-дизайнер, відеограф, військовослужбовець</td>\n",
       "      <td>{'Зарплата': '40000-70000 грн', 'Дані про комп...</td>\n",
       "      <td>[Adobe Photoshop, Adobe Illustrator, Adobe Lig...</td>\n",
       "    </tr>\n",
       "    <tr>\n",
       "      <th>...</th>\n",
       "      <td>...</td>\n",
       "      <td>...</td>\n",
       "      <td>...</td>\n",
       "      <td>...</td>\n",
       "      <td>...</td>\n",
       "    </tr>\n",
       "    <tr>\n",
       "      <th>2022</th>\n",
       "      <td>4893852</td>\n",
       "      <td>https://www.work.ua/jobs/4893852/</td>\n",
       "      <td>Закрійник у швейний цех (виробництво спецодягу)</td>\n",
       "      <td>{'Зарплата': '20000-22000 грн, Залежіть від ре...</td>\n",
       "      <td>[Відповідальність, Пунктуальність, Порядність]</td>\n",
       "    </tr>\n",
       "    <tr>\n",
       "      <th>2023</th>\n",
       "      <td>6334339</td>\n",
       "      <td>https://www.work.ua/jobs/6334339/</td>\n",
       "      <td>Оператор 3D-принтера, 3D-друкар</td>\n",
       "      <td>{'Зарплата': '30000 грн', 'Дані про компанію':...</td>\n",
       "      <td>[Відповідальність, Здатність до навчання, Уваж...</td>\n",
       "    </tr>\n",
       "    <tr>\n",
       "      <th>2024</th>\n",
       "      <td>6312637</td>\n",
       "      <td>https://www.work.ua/jobs/6312637/</td>\n",
       "      <td>Фотограф</td>\n",
       "      <td>{'Дані про компанію': 'Революшн, АН, ТОВ;Нерух...</td>\n",
       "      <td>[Adobe Photoshop, Adobe Lightroom, Adobe, Фото...</td>\n",
       "    </tr>\n",
       "    <tr>\n",
       "      <th>2025</th>\n",
       "      <td>2355722</td>\n",
       "      <td>https://www.work.ua/jobs/2355722/</td>\n",
       "      <td>2D-дизайнер</td>\n",
       "      <td>{'Зарплата': '25000 грн, По результатам работы...</td>\n",
       "      <td>[Adobe Photoshop, Adobe Illustrator, CorelDRAW...</td>\n",
       "    </tr>\n",
       "    <tr>\n",
       "      <th>2026</th>\n",
       "      <td>6600802</td>\n",
       "      <td>https://www.work.ua/jobs/6600802/</td>\n",
       "      <td>Швачка, майстриня з пошиву, кравчиня</td>\n",
       "      <td>{'Зарплата': '16000 грн, Гарантована ставка, в...</td>\n",
       "      <td>[]</td>\n",
       "    </tr>\n",
       "  </tbody>\n",
       "</table>\n",
       "<p>2027 rows × 5 columns</p>\n",
       "</div>"
      ],
      "text/plain": [
       "       job_id                            job_url  \\\n",
       "0     6833869  https://www.work.ua/jobs/6833869/   \n",
       "1     6869512  https://www.work.ua/jobs/6869512/   \n",
       "2     6709504  https://www.work.ua/jobs/6709504/   \n",
       "3     6763612  https://www.work.ua/jobs/6763612/   \n",
       "4     6418075  https://www.work.ua/jobs/6418075/   \n",
       "...       ...                                ...   \n",
       "2022  4893852  https://www.work.ua/jobs/4893852/   \n",
       "2023  6334339  https://www.work.ua/jobs/6334339/   \n",
       "2024  6312637  https://www.work.ua/jobs/6312637/   \n",
       "2025  2355722  https://www.work.ua/jobs/2355722/   \n",
       "2026  6600802  https://www.work.ua/jobs/6600802/   \n",
       "\n",
       "                                                title  \\\n",
       "0                                   Конструктор одягу   \n",
       "1             Різноробочий на будівництво, озеленення   \n",
       "2                      Відеооператор, режисер монтажу   \n",
       "3                    Закрійник, швея-кравець в ательє   \n",
       "4      Моушн-дизайнер, відеограф, військовослужбовець   \n",
       "...                                               ...   \n",
       "2022  Закрійник у швейний цех (виробництво спецодягу)   \n",
       "2023                  Оператор 3D-принтера, 3D-друкар   \n",
       "2024                                         Фотограф   \n",
       "2025                                      2D-дизайнер   \n",
       "2026             Швачка, майстриня з пошиву, кравчиня   \n",
       "\n",
       "                                               job_data  \\\n",
       "0     {'Зарплата': '35000-45000 грн, Ставка + KPI', ...   \n",
       "1     {'Зарплата': '25000-30000 грн, За результатами...   \n",
       "2     {'Зарплата': '29000 грн', 'Дані про компанію':...   \n",
       "3     {'Зарплата': '30000-40000 грн, Процентна ставк...   \n",
       "4     {'Зарплата': '40000-70000 грн', 'Дані про комп...   \n",
       "...                                                 ...   \n",
       "2022  {'Зарплата': '20000-22000 грн, Залежіть від ре...   \n",
       "2023  {'Зарплата': '30000 грн', 'Дані про компанію':...   \n",
       "2024  {'Дані про компанію': 'Революшн, АН, ТОВ;Нерух...   \n",
       "2025  {'Зарплата': '25000 грн, По результатам работы...   \n",
       "2026  {'Зарплата': '16000 грн, Гарантована ставка, в...   \n",
       "\n",
       "                                           requirements  \n",
       "0                       [Уважність, Знання САПР, Clo3D]  \n",
       "1     [Відповідальність, Активність, Дизайн, Уважніс...  \n",
       "2     [Adobe Premiere Pro, Adobe, Робота в команді, ...  \n",
       "3                  [Пошиття одягу, Шиття, Ремонт одягу]  \n",
       "4     [Adobe Photoshop, Adobe Illustrator, Adobe Lig...  \n",
       "...                                                 ...  \n",
       "2022     [Відповідальність, Пунктуальність, Порядність]  \n",
       "2023  [Відповідальність, Здатність до навчання, Уваж...  \n",
       "2024  [Adobe Photoshop, Adobe Lightroom, Adobe, Фото...  \n",
       "2025  [Adobe Photoshop, Adobe Illustrator, CorelDRAW...  \n",
       "2026                                                 []  \n",
       "\n",
       "[2027 rows x 5 columns]"
      ]
     },
     "execution_count": 3,
     "metadata": {},
     "output_type": "execute_result"
    }
   ],
   "source": [
    "jobs_path = os.path.join(data_path, \"it_jobs.jl\")\n",
    "df_jobs = pd.read_json(jobs_path, lines=True)\n",
    "df_jobs"
   ]
  },
  {
   "cell_type": "markdown",
   "id": "c9e421d787830008",
   "metadata": {},
   "source": [
    "#### Remove Unnecessary Column\n",
    "Drops the `job_url` column from the DataFrame.\n"
   ]
  },
  {
   "cell_type": "code",
   "execution_count": 4,
   "id": "41db0ad9",
   "metadata": {
    "ExecuteTime": {
     "end_time": "2025-07-28T18:15:28.074329Z",
     "start_time": "2025-07-28T18:15:28.058298Z"
    }
   },
   "outputs": [],
   "source": [
    "df_jobs = df_jobs.drop(\"job_url\", axis=1)"
   ]
  },
  {
   "cell_type": "markdown",
   "id": "b7a93929d5c6f853",
   "metadata": {},
   "source": [
    "#### Extract Key Job Details\n",
    "Pulls specific fields from the nested `job_data` dictionary and creates new columns for salary, company info, job location, conditions, and language requirements.\n"
   ]
  },
  {
   "cell_type": "code",
   "execution_count": 5,
   "id": "2b4b0498",
   "metadata": {
    "ExecuteTime": {
     "end_time": "2025-07-28T18:15:30.946039Z",
     "start_time": "2025-07-28T18:15:30.924257Z"
    }
   },
   "outputs": [],
   "source": [
    "df_jobs[\"salary\"] = df_jobs[\"job_data\"].apply(lambda item: item.get(\"Зарплата\", np.nan))\n",
    "df_jobs[\"company\"] = df_jobs[\"job_data\"].apply(lambda item: item.get(\"Дані про компанію\", np.nan))\n",
    "df_jobs[\"location\"] = df_jobs[\"job_data\"].apply(lambda item: item.get(\"Місце роботи\", np.nan))\n",
    "df_jobs[\"conditions\"] = df_jobs[\"job_data\"].apply(lambda item: item.get(\"Умови й вимоги\", np.nan))\n",
    "df_jobs[\"lenguas\"] = df_jobs[\"job_data\"].apply(lambda item: item.get(\"Знання мов\", np.nan))"
   ]
  },
  {
   "cell_type": "code",
   "execution_count": 6,
   "id": "06c48530",
   "metadata": {
    "ExecuteTime": {
     "end_time": "2025-07-28T18:15:39.776799Z",
     "start_time": "2025-07-28T18:15:39.750550Z"
    }
   },
   "outputs": [
    {
     "data": {
      "text/html": [
       "<div>\n",
       "<style scoped>\n",
       "    .dataframe tbody tr th:only-of-type {\n",
       "        vertical-align: middle;\n",
       "    }\n",
       "\n",
       "    .dataframe tbody tr th {\n",
       "        vertical-align: top;\n",
       "    }\n",
       "\n",
       "    .dataframe thead th {\n",
       "        text-align: right;\n",
       "    }\n",
       "</style>\n",
       "<table border=\"1\" class=\"dataframe\">\n",
       "  <thead>\n",
       "    <tr style=\"text-align: right;\">\n",
       "      <th></th>\n",
       "      <th>job_id</th>\n",
       "      <th>title</th>\n",
       "      <th>job_data</th>\n",
       "      <th>requirements</th>\n",
       "      <th>salary</th>\n",
       "      <th>company</th>\n",
       "      <th>location</th>\n",
       "      <th>conditions</th>\n",
       "      <th>lenguas</th>\n",
       "    </tr>\n",
       "  </thead>\n",
       "  <tbody>\n",
       "    <tr>\n",
       "      <th>0</th>\n",
       "      <td>6833869</td>\n",
       "      <td>Конструктор одягу</td>\n",
       "      <td>{'Зарплата': '35000-45000 грн, Ставка + KPI', ...</td>\n",
       "      <td>[Уважність, Знання САПР, Clo3D]</td>\n",
       "      <td>35000-45000 грн, Ставка + KPI</td>\n",
       "      <td>Annkers;Легка промисловість; 10-50 співробітників</td>\n",
       "      <td>NaN</td>\n",
       "      <td>Повна зайнятість, неповна зайнятість. Досвід р...</td>\n",
       "      <td>NaN</td>\n",
       "    </tr>\n",
       "    <tr>\n",
       "      <th>1</th>\n",
       "      <td>6869512</td>\n",
       "      <td>Різноробочий на будівництво, озеленення</td>\n",
       "      <td>{'Зарплата': '25000-30000 грн, За результатами...</td>\n",
       "      <td>[Відповідальність, Активність, Дизайн, Уважніс...</td>\n",
       "      <td>25000-30000 грн, За результатами співбесіди</td>\n",
       "      <td>Family Building (Оніщенко М.В., ФОП);Будівницт...</td>\n",
       "      <td>NaN</td>\n",
       "      <td>Повна зайнятість. Також готові взяти студента....</td>\n",
       "      <td>NaN</td>\n",
       "    </tr>\n",
       "    <tr>\n",
       "      <th>2</th>\n",
       "      <td>6709504</td>\n",
       "      <td>Відеооператор, режисер монтажу</td>\n",
       "      <td>{'Зарплата': '29000 грн', 'Дані про компанію':...</td>\n",
       "      <td>[Adobe Premiere Pro, Adobe, Робота в команді, ...</td>\n",
       "      <td>29000 грн</td>\n",
       "      <td>Інформер;ЗМІ, медіа; менше 10 співробітників</td>\n",
       "      <td>NaN</td>\n",
       "      <td>Повна зайнятість. Досвід роботи від 1 року.</td>\n",
       "      <td>NaN</td>\n",
       "    </tr>\n",
       "    <tr>\n",
       "      <th>3</th>\n",
       "      <td>6763612</td>\n",
       "      <td>Закрійник, швея-кравець в ательє</td>\n",
       "      <td>{'Зарплата': '30000-40000 грн, Процентна ставк...</td>\n",
       "      <td>[Пошиття одягу, Шиття, Ремонт одягу]</td>\n",
       "      <td>30000-40000 грн, Процентна ставка -40%+преміі+...</td>\n",
       "      <td>Voznesenska;Послуги для населення та бізнесу; ...</td>\n",
       "      <td>NaN</td>\n",
       "      <td>Повна зайнятість. Також готові взяти людину з ...</td>\n",
       "      <td>NaN</td>\n",
       "    </tr>\n",
       "    <tr>\n",
       "      <th>4</th>\n",
       "      <td>6418075</td>\n",
       "      <td>Моушн-дизайнер, відеограф, військовослужбовець</td>\n",
       "      <td>{'Зарплата': '40000-70000 грн', 'Дані про комп...</td>\n",
       "      <td>[Adobe Photoshop, Adobe Illustrator, Adobe Lig...</td>\n",
       "      <td>40000-70000 грн</td>\n",
       "      <td>Kraken, спецпідрозділ ГУР;Сили оборони; більше...</td>\n",
       "      <td>NaN</td>\n",
       "      <td>Повна зайнятість. Досвід роботи від 1 року.</td>\n",
       "      <td>NaN</td>\n",
       "    </tr>\n",
       "    <tr>\n",
       "      <th>...</th>\n",
       "      <td>...</td>\n",
       "      <td>...</td>\n",
       "      <td>...</td>\n",
       "      <td>...</td>\n",
       "      <td>...</td>\n",
       "      <td>...</td>\n",
       "      <td>...</td>\n",
       "      <td>...</td>\n",
       "      <td>...</td>\n",
       "    </tr>\n",
       "    <tr>\n",
       "      <th>2022</th>\n",
       "      <td>4893852</td>\n",
       "      <td>Закрійник у швейний цех (виробництво спецодягу)</td>\n",
       "      <td>{'Зарплата': '20000-22000 грн, Залежіть від ре...</td>\n",
       "      <td>[Відповідальність, Пунктуальність, Порядність]</td>\n",
       "      <td>20000-22000 грн, Залежіть від результату співб...</td>\n",
       "      <td>Лідер, швейна фабрика, ТОВ;Легка промисловість...</td>\n",
       "      <td>NaN</td>\n",
       "      <td>Повна зайнятість. Досвід роботи від 2 років.</td>\n",
       "      <td>NaN</td>\n",
       "    </tr>\n",
       "    <tr>\n",
       "      <th>2023</th>\n",
       "      <td>6334339</td>\n",
       "      <td>Оператор 3D-принтера, 3D-друкар</td>\n",
       "      <td>{'Зарплата': '30000 грн', 'Дані про компанію':...</td>\n",
       "      <td>[Відповідальність, Здатність до навчання, Уваж...</td>\n",
       "      <td>30000 грн</td>\n",
       "      <td>Хімічні Авіаційні Технології, ТОВ;Машинобудува...</td>\n",
       "      <td>NaN</td>\n",
       "      <td>Повна зайнятість. Досвід роботи від 1 року.</td>\n",
       "      <td>NaN</td>\n",
       "    </tr>\n",
       "    <tr>\n",
       "      <th>2024</th>\n",
       "      <td>6312637</td>\n",
       "      <td>Фотограф</td>\n",
       "      <td>{'Дані про компанію': 'Революшн, АН, ТОВ;Нерух...</td>\n",
       "      <td>[Adobe Photoshop, Adobe Lightroom, Adobe, Фото...</td>\n",
       "      <td>NaN</td>\n",
       "      <td>Революшн, АН, ТОВ;Нерухомість; 50-250 співробі...</td>\n",
       "      <td>NaN</td>\n",
       "      <td>Повна зайнятість, неповна зайнятість. Досвід р...</td>\n",
       "      <td>NaN</td>\n",
       "    </tr>\n",
       "    <tr>\n",
       "      <th>2025</th>\n",
       "      <td>2355722</td>\n",
       "      <td>2D-дизайнер</td>\n",
       "      <td>{'Зарплата': '25000 грн, По результатам работы...</td>\n",
       "      <td>[Adobe Photoshop, Adobe Illustrator, CorelDRAW...</td>\n",
       "      <td>25000 грн, По результатам работы</td>\n",
       "      <td>Гарант і Партнери;Легка промисловість; 50-250 ...</td>\n",
       "      <td>NaN</td>\n",
       "      <td>Повна зайнятість. Також готові взяти студента,...</td>\n",
       "      <td>NaN</td>\n",
       "    </tr>\n",
       "    <tr>\n",
       "      <th>2026</th>\n",
       "      <td>6600802</td>\n",
       "      <td>Швачка, майстриня з пошиву, кравчиня</td>\n",
       "      <td>{'Зарплата': '16000 грн, Гарантована ставка, в...</td>\n",
       "      <td>[]</td>\n",
       "      <td>16000 грн, Гарантована ставка, виплати 15-го т...</td>\n",
       "      <td>Юзькова Л.С., ФОП;Легка промисловість; менше 1...</td>\n",
       "      <td>NaN</td>\n",
       "      <td>Повна зайнятість.</td>\n",
       "      <td>NaN</td>\n",
       "    </tr>\n",
       "  </tbody>\n",
       "</table>\n",
       "<p>2027 rows × 9 columns</p>\n",
       "</div>"
      ],
      "text/plain": [
       "       job_id                                            title  \\\n",
       "0     6833869                                Конструктор одягу   \n",
       "1     6869512          Різноробочий на будівництво, озеленення   \n",
       "2     6709504                   Відеооператор, режисер монтажу   \n",
       "3     6763612                 Закрійник, швея-кравець в ательє   \n",
       "4     6418075   Моушн-дизайнер, відеограф, військовослужбовець   \n",
       "...       ...                                              ...   \n",
       "2022  4893852  Закрійник у швейний цех (виробництво спецодягу)   \n",
       "2023  6334339                  Оператор 3D-принтера, 3D-друкар   \n",
       "2024  6312637                                         Фотограф   \n",
       "2025  2355722                                      2D-дизайнер   \n",
       "2026  6600802             Швачка, майстриня з пошиву, кравчиня   \n",
       "\n",
       "                                               job_data  \\\n",
       "0     {'Зарплата': '35000-45000 грн, Ставка + KPI', ...   \n",
       "1     {'Зарплата': '25000-30000 грн, За результатами...   \n",
       "2     {'Зарплата': '29000 грн', 'Дані про компанію':...   \n",
       "3     {'Зарплата': '30000-40000 грн, Процентна ставк...   \n",
       "4     {'Зарплата': '40000-70000 грн', 'Дані про комп...   \n",
       "...                                                 ...   \n",
       "2022  {'Зарплата': '20000-22000 грн, Залежіть від ре...   \n",
       "2023  {'Зарплата': '30000 грн', 'Дані про компанію':...   \n",
       "2024  {'Дані про компанію': 'Революшн, АН, ТОВ;Нерух...   \n",
       "2025  {'Зарплата': '25000 грн, По результатам работы...   \n",
       "2026  {'Зарплата': '16000 грн, Гарантована ставка, в...   \n",
       "\n",
       "                                           requirements  \\\n",
       "0                       [Уважність, Знання САПР, Clo3D]   \n",
       "1     [Відповідальність, Активність, Дизайн, Уважніс...   \n",
       "2     [Adobe Premiere Pro, Adobe, Робота в команді, ...   \n",
       "3                  [Пошиття одягу, Шиття, Ремонт одягу]   \n",
       "4     [Adobe Photoshop, Adobe Illustrator, Adobe Lig...   \n",
       "...                                                 ...   \n",
       "2022     [Відповідальність, Пунктуальність, Порядність]   \n",
       "2023  [Відповідальність, Здатність до навчання, Уваж...   \n",
       "2024  [Adobe Photoshop, Adobe Lightroom, Adobe, Фото...   \n",
       "2025  [Adobe Photoshop, Adobe Illustrator, CorelDRAW...   \n",
       "2026                                                 []   \n",
       "\n",
       "                                                 salary  \\\n",
       "0                         35000-45000 грн, Ставка + KPI   \n",
       "1           25000-30000 грн, За результатами співбесіди   \n",
       "2                                             29000 грн   \n",
       "3     30000-40000 грн, Процентна ставка -40%+преміі+...   \n",
       "4                                       40000-70000 грн   \n",
       "...                                                 ...   \n",
       "2022  20000-22000 грн, Залежіть від результату співб...   \n",
       "2023                                          30000 грн   \n",
       "2024                                                NaN   \n",
       "2025                   25000 грн, По результатам работы   \n",
       "2026  16000 грн, Гарантована ставка, виплати 15-го т...   \n",
       "\n",
       "                                                company location  \\\n",
       "0     Annkers;Легка промисловість; 10-50 співробітників      NaN   \n",
       "1     Family Building (Оніщенко М.В., ФОП);Будівницт...      NaN   \n",
       "2          Інформер;ЗМІ, медіа; менше 10 співробітників      NaN   \n",
       "3     Voznesenska;Послуги для населення та бізнесу; ...      NaN   \n",
       "4     Kraken, спецпідрозділ ГУР;Сили оборони; більше...      NaN   \n",
       "...                                                 ...      ...   \n",
       "2022  Лідер, швейна фабрика, ТОВ;Легка промисловість...      NaN   \n",
       "2023  Хімічні Авіаційні Технології, ТОВ;Машинобудува...      NaN   \n",
       "2024  Революшн, АН, ТОВ;Нерухомість; 50-250 співробі...      NaN   \n",
       "2025  Гарант і Партнери;Легка промисловість; 50-250 ...      NaN   \n",
       "2026  Юзькова Л.С., ФОП;Легка промисловість; менше 1...      NaN   \n",
       "\n",
       "                                             conditions lenguas  \n",
       "0     Повна зайнятість, неповна зайнятість. Досвід р...     NaN  \n",
       "1     Повна зайнятість. Також готові взяти студента....     NaN  \n",
       "2           Повна зайнятість. Досвід роботи від 1 року.     NaN  \n",
       "3     Повна зайнятість. Також готові взяти людину з ...     NaN  \n",
       "4           Повна зайнятість. Досвід роботи від 1 року.     NaN  \n",
       "...                                                 ...     ...  \n",
       "2022       Повна зайнятість. Досвід роботи від 2 років.     NaN  \n",
       "2023        Повна зайнятість. Досвід роботи від 1 року.     NaN  \n",
       "2024  Повна зайнятість, неповна зайнятість. Досвід р...     NaN  \n",
       "2025  Повна зайнятість. Також готові взяти студента,...     NaN  \n",
       "2026                                  Повна зайнятість.     NaN  \n",
       "\n",
       "[2027 rows x 9 columns]"
      ]
     },
     "execution_count": 6,
     "metadata": {},
     "output_type": "execute_result"
    }
   ],
   "source": [
    "df_jobs"
   ]
  },
  {
   "cell_type": "markdown",
   "id": "884a5ab63e9f1b0c",
   "metadata": {},
   "source": [
    "#### Parse Salary Information\n",
    "Changes working directory to the project root, then extracts structured salary details from the raw `salary` field using a custom helper function."
   ]
  },
  {
   "cell_type": "code",
   "execution_count": 8,
   "id": "3ec9be7d",
   "metadata": {
    "ExecuteTime": {
     "end_time": "2025-07-28T18:15:45.261469Z",
     "start_time": "2025-07-28T18:15:45.002307Z"
    }
   },
   "outputs": [
    {
     "name": "stdout",
     "output_type": "stream",
     "text": [
      "C:\\Users\\zazul\\projects\\work-scrape-analyze\n"
     ]
    },
    {
     "ename": "ValueError",
     "evalue": "invalid literal for int() with base 10: ''",
     "output_type": "error",
     "traceback": [
      "\u001b[31m---------------------------------------------------------------------------\u001b[39m",
      "\u001b[31mValueError\u001b[39m                                Traceback (most recent call last)",
      "\u001b[36mCell\u001b[39m\u001b[36m \u001b[39m\u001b[32mIn[8]\u001b[39m\u001b[32m, line 5\u001b[39m\n\u001b[32m      1\u001b[39m get_ipython().run_line_magic(\u001b[33m'\u001b[39m\u001b[33mcd\u001b[39m\u001b[33m'\u001b[39m, \u001b[33m'\u001b[39m\u001b[33m$abs_path\u001b[39m\u001b[33m'\u001b[39m)\n\u001b[32m      2\u001b[39m \u001b[38;5;28;01mfrom\u001b[39;00m\u001b[38;5;250m \u001b[39m\u001b[34;01manalysis\u001b[39;00m\u001b[34;01m.\u001b[39;00m\u001b[34;01mutils\u001b[39;00m\u001b[38;5;250m \u001b[39m\u001b[38;5;28;01mimport\u001b[39;00m extract_salary, classify_skills\n\u001b[32m----> \u001b[39m\u001b[32m5\u001b[39m df_jobs[[\u001b[33m\"\u001b[39m\u001b[33msalary from\u001b[39m\u001b[33m\"\u001b[39m, \u001b[33m\"\u001b[39m\u001b[33msalary up to\u001b[39m\u001b[33m\"\u001b[39m, \u001b[33m\"\u001b[39m\u001b[33msalary conditions\u001b[39m\u001b[33m\"\u001b[39m]] = \u001b[43mdf_jobs\u001b[49m\u001b[43m[\u001b[49m\u001b[33;43m\"\u001b[39;49m\u001b[33;43msalary\u001b[39;49m\u001b[33;43m\"\u001b[39;49m\u001b[43m]\u001b[49m\u001b[43m.\u001b[49m\u001b[43mapply\u001b[49m\u001b[43m(\u001b[49m\n\u001b[32m      6\u001b[39m \u001b[43m    \u001b[49m\u001b[38;5;28;43;01mlambda\u001b[39;49;00m\u001b[43m \u001b[49m\u001b[43mx\u001b[49m\u001b[43m:\u001b[49m\u001b[43m \u001b[49m\u001b[43mpd\u001b[49m\u001b[43m.\u001b[49m\u001b[43mSeries\u001b[49m\u001b[43m(\u001b[49m\u001b[43mextract_salary\u001b[49m\u001b[43m(\u001b[49m\u001b[43mx\u001b[49m\u001b[43m)\u001b[49m\u001b[43m)\u001b[49m\n\u001b[32m      7\u001b[39m \u001b[43m)\u001b[49m\n",
      "\u001b[36mFile \u001b[39m\u001b[32m~\\projects\\work-scrape-analyze\\.venv\\Lib\\site-packages\\pandas\\core\\series.py:4935\u001b[39m, in \u001b[36mSeries.apply\u001b[39m\u001b[34m(self, func, convert_dtype, args, by_row, **kwargs)\u001b[39m\n\u001b[32m   4800\u001b[39m \u001b[38;5;28;01mdef\u001b[39;00m\u001b[38;5;250m \u001b[39m\u001b[34mapply\u001b[39m(\n\u001b[32m   4801\u001b[39m     \u001b[38;5;28mself\u001b[39m,\n\u001b[32m   4802\u001b[39m     func: AggFuncType,\n\u001b[32m   (...)\u001b[39m\u001b[32m   4807\u001b[39m     **kwargs,\n\u001b[32m   4808\u001b[39m ) -> DataFrame | Series:\n\u001b[32m   4809\u001b[39m \u001b[38;5;250m    \u001b[39m\u001b[33;03m\"\"\"\u001b[39;00m\n\u001b[32m   4810\u001b[39m \u001b[33;03m    Invoke function on values of Series.\u001b[39;00m\n\u001b[32m   4811\u001b[39m \n\u001b[32m   (...)\u001b[39m\u001b[32m   4926\u001b[39m \u001b[33;03m    dtype: float64\u001b[39;00m\n\u001b[32m   4927\u001b[39m \u001b[33;03m    \"\"\"\u001b[39;00m\n\u001b[32m   4928\u001b[39m     \u001b[38;5;28;01mreturn\u001b[39;00m \u001b[43mSeriesApply\u001b[49m\u001b[43m(\u001b[49m\n\u001b[32m   4929\u001b[39m \u001b[43m        \u001b[49m\u001b[38;5;28;43mself\u001b[39;49m\u001b[43m,\u001b[49m\n\u001b[32m   4930\u001b[39m \u001b[43m        \u001b[49m\u001b[43mfunc\u001b[49m\u001b[43m,\u001b[49m\n\u001b[32m   4931\u001b[39m \u001b[43m        \u001b[49m\u001b[43mconvert_dtype\u001b[49m\u001b[43m=\u001b[49m\u001b[43mconvert_dtype\u001b[49m\u001b[43m,\u001b[49m\n\u001b[32m   4932\u001b[39m \u001b[43m        \u001b[49m\u001b[43mby_row\u001b[49m\u001b[43m=\u001b[49m\u001b[43mby_row\u001b[49m\u001b[43m,\u001b[49m\n\u001b[32m   4933\u001b[39m \u001b[43m        \u001b[49m\u001b[43margs\u001b[49m\u001b[43m=\u001b[49m\u001b[43margs\u001b[49m\u001b[43m,\u001b[49m\n\u001b[32m   4934\u001b[39m \u001b[43m        \u001b[49m\u001b[43mkwargs\u001b[49m\u001b[43m=\u001b[49m\u001b[43mkwargs\u001b[49m\u001b[43m,\u001b[49m\n\u001b[32m-> \u001b[39m\u001b[32m4935\u001b[39m \u001b[43m    \u001b[49m\u001b[43m)\u001b[49m\u001b[43m.\u001b[49m\u001b[43mapply\u001b[49m\u001b[43m(\u001b[49m\u001b[43m)\u001b[49m\n",
      "\u001b[36mFile \u001b[39m\u001b[32m~\\projects\\work-scrape-analyze\\.venv\\Lib\\site-packages\\pandas\\core\\apply.py:1422\u001b[39m, in \u001b[36mSeriesApply.apply\u001b[39m\u001b[34m(self)\u001b[39m\n\u001b[32m   1419\u001b[39m     \u001b[38;5;28;01mreturn\u001b[39;00m \u001b[38;5;28mself\u001b[39m.apply_compat()\n\u001b[32m   1421\u001b[39m \u001b[38;5;66;03m# self.func is Callable\u001b[39;00m\n\u001b[32m-> \u001b[39m\u001b[32m1422\u001b[39m \u001b[38;5;28;01mreturn\u001b[39;00m \u001b[38;5;28;43mself\u001b[39;49m\u001b[43m.\u001b[49m\u001b[43mapply_standard\u001b[49m\u001b[43m(\u001b[49m\u001b[43m)\u001b[49m\n",
      "\u001b[36mFile \u001b[39m\u001b[32m~\\projects\\work-scrape-analyze\\.venv\\Lib\\site-packages\\pandas\\core\\apply.py:1502\u001b[39m, in \u001b[36mSeriesApply.apply_standard\u001b[39m\u001b[34m(self)\u001b[39m\n\u001b[32m   1496\u001b[39m \u001b[38;5;66;03m# row-wise access\u001b[39;00m\n\u001b[32m   1497\u001b[39m \u001b[38;5;66;03m# apply doesn't have a `na_action` keyword and for backward compat reasons\u001b[39;00m\n\u001b[32m   1498\u001b[39m \u001b[38;5;66;03m# we need to give `na_action=\"ignore\"` for categorical data.\u001b[39;00m\n\u001b[32m   1499\u001b[39m \u001b[38;5;66;03m# TODO: remove the `na_action=\"ignore\"` when that default has been changed in\u001b[39;00m\n\u001b[32m   1500\u001b[39m \u001b[38;5;66;03m#  Categorical (GH51645).\u001b[39;00m\n\u001b[32m   1501\u001b[39m action = \u001b[33m\"\u001b[39m\u001b[33mignore\u001b[39m\u001b[33m\"\u001b[39m \u001b[38;5;28;01mif\u001b[39;00m \u001b[38;5;28misinstance\u001b[39m(obj.dtype, CategoricalDtype) \u001b[38;5;28;01melse\u001b[39;00m \u001b[38;5;28;01mNone\u001b[39;00m\n\u001b[32m-> \u001b[39m\u001b[32m1502\u001b[39m mapped = \u001b[43mobj\u001b[49m\u001b[43m.\u001b[49m\u001b[43m_map_values\u001b[49m\u001b[43m(\u001b[49m\n\u001b[32m   1503\u001b[39m \u001b[43m    \u001b[49m\u001b[43mmapper\u001b[49m\u001b[43m=\u001b[49m\u001b[43mcurried\u001b[49m\u001b[43m,\u001b[49m\u001b[43m \u001b[49m\u001b[43mna_action\u001b[49m\u001b[43m=\u001b[49m\u001b[43maction\u001b[49m\u001b[43m,\u001b[49m\u001b[43m \u001b[49m\u001b[43mconvert\u001b[49m\u001b[43m=\u001b[49m\u001b[38;5;28;43mself\u001b[39;49m\u001b[43m.\u001b[49m\u001b[43mconvert_dtype\u001b[49m\n\u001b[32m   1504\u001b[39m \u001b[43m\u001b[49m\u001b[43m)\u001b[49m\n\u001b[32m   1506\u001b[39m \u001b[38;5;28;01mif\u001b[39;00m \u001b[38;5;28mlen\u001b[39m(mapped) \u001b[38;5;129;01mand\u001b[39;00m \u001b[38;5;28misinstance\u001b[39m(mapped[\u001b[32m0\u001b[39m], ABCSeries):\n\u001b[32m   1507\u001b[39m     \u001b[38;5;66;03m# GH#43986 Need to do list(mapped) in order to get treated as nested\u001b[39;00m\n\u001b[32m   1508\u001b[39m     \u001b[38;5;66;03m#  See also GH#25959 regarding EA support\u001b[39;00m\n\u001b[32m   1509\u001b[39m     \u001b[38;5;28;01mreturn\u001b[39;00m obj._constructor_expanddim(\u001b[38;5;28mlist\u001b[39m(mapped), index=obj.index)\n",
      "\u001b[36mFile \u001b[39m\u001b[32m~\\projects\\work-scrape-analyze\\.venv\\Lib\\site-packages\\pandas\\core\\base.py:925\u001b[39m, in \u001b[36mIndexOpsMixin._map_values\u001b[39m\u001b[34m(self, mapper, na_action, convert)\u001b[39m\n\u001b[32m    922\u001b[39m \u001b[38;5;28;01mif\u001b[39;00m \u001b[38;5;28misinstance\u001b[39m(arr, ExtensionArray):\n\u001b[32m    923\u001b[39m     \u001b[38;5;28;01mreturn\u001b[39;00m arr.map(mapper, na_action=na_action)\n\u001b[32m--> \u001b[39m\u001b[32m925\u001b[39m \u001b[38;5;28;01mreturn\u001b[39;00m \u001b[43malgorithms\u001b[49m\u001b[43m.\u001b[49m\u001b[43mmap_array\u001b[49m\u001b[43m(\u001b[49m\u001b[43marr\u001b[49m\u001b[43m,\u001b[49m\u001b[43m \u001b[49m\u001b[43mmapper\u001b[49m\u001b[43m,\u001b[49m\u001b[43m \u001b[49m\u001b[43mna_action\u001b[49m\u001b[43m=\u001b[49m\u001b[43mna_action\u001b[49m\u001b[43m,\u001b[49m\u001b[43m \u001b[49m\u001b[43mconvert\u001b[49m\u001b[43m=\u001b[49m\u001b[43mconvert\u001b[49m\u001b[43m)\u001b[49m\n",
      "\u001b[36mFile \u001b[39m\u001b[32m~\\projects\\work-scrape-analyze\\.venv\\Lib\\site-packages\\pandas\\core\\algorithms.py:1743\u001b[39m, in \u001b[36mmap_array\u001b[39m\u001b[34m(arr, mapper, na_action, convert)\u001b[39m\n\u001b[32m   1741\u001b[39m values = arr.astype(\u001b[38;5;28mobject\u001b[39m, copy=\u001b[38;5;28;01mFalse\u001b[39;00m)\n\u001b[32m   1742\u001b[39m \u001b[38;5;28;01mif\u001b[39;00m na_action \u001b[38;5;129;01mis\u001b[39;00m \u001b[38;5;28;01mNone\u001b[39;00m:\n\u001b[32m-> \u001b[39m\u001b[32m1743\u001b[39m     \u001b[38;5;28;01mreturn\u001b[39;00m \u001b[43mlib\u001b[49m\u001b[43m.\u001b[49m\u001b[43mmap_infer\u001b[49m\u001b[43m(\u001b[49m\u001b[43mvalues\u001b[49m\u001b[43m,\u001b[49m\u001b[43m \u001b[49m\u001b[43mmapper\u001b[49m\u001b[43m,\u001b[49m\u001b[43m \u001b[49m\u001b[43mconvert\u001b[49m\u001b[43m=\u001b[49m\u001b[43mconvert\u001b[49m\u001b[43m)\u001b[49m\n\u001b[32m   1744\u001b[39m \u001b[38;5;28;01melse\u001b[39;00m:\n\u001b[32m   1745\u001b[39m     \u001b[38;5;28;01mreturn\u001b[39;00m lib.map_infer_mask(\n\u001b[32m   1746\u001b[39m         values, mapper, mask=isna(values).view(np.uint8), convert=convert\n\u001b[32m   1747\u001b[39m     )\n",
      "\u001b[36mFile \u001b[39m\u001b[32mpandas/_libs/lib.pyx:2999\u001b[39m, in \u001b[36mpandas._libs.lib.map_infer\u001b[39m\u001b[34m()\u001b[39m\n",
      "\u001b[36mCell\u001b[39m\u001b[36m \u001b[39m\u001b[32mIn[8]\u001b[39m\u001b[32m, line 6\u001b[39m, in \u001b[36m<lambda>\u001b[39m\u001b[34m(x)\u001b[39m\n\u001b[32m      1\u001b[39m get_ipython().run_line_magic(\u001b[33m'\u001b[39m\u001b[33mcd\u001b[39m\u001b[33m'\u001b[39m, \u001b[33m'\u001b[39m\u001b[33m$abs_path\u001b[39m\u001b[33m'\u001b[39m)\n\u001b[32m      2\u001b[39m \u001b[38;5;28;01mfrom\u001b[39;00m\u001b[38;5;250m \u001b[39m\u001b[34;01manalysis\u001b[39;00m\u001b[34;01m.\u001b[39;00m\u001b[34;01mutils\u001b[39;00m\u001b[38;5;250m \u001b[39m\u001b[38;5;28;01mimport\u001b[39;00m extract_salary, classify_skills\n\u001b[32m      5\u001b[39m df_jobs[[\u001b[33m\"\u001b[39m\u001b[33msalary from\u001b[39m\u001b[33m\"\u001b[39m, \u001b[33m\"\u001b[39m\u001b[33msalary up to\u001b[39m\u001b[33m\"\u001b[39m, \u001b[33m\"\u001b[39m\u001b[33msalary conditions\u001b[39m\u001b[33m\"\u001b[39m]] = df_jobs[\u001b[33m\"\u001b[39m\u001b[33msalary\u001b[39m\u001b[33m\"\u001b[39m].apply(\n\u001b[32m----> \u001b[39m\u001b[32m6\u001b[39m     \u001b[38;5;28;01mlambda\u001b[39;00m x: pd.Series(\u001b[43mextract_salary\u001b[49m\u001b[43m(\u001b[49m\u001b[43mx\u001b[49m\u001b[43m)\u001b[49m)\n\u001b[32m      7\u001b[39m )\n",
      "\u001b[36mFile \u001b[39m\u001b[32m~\\projects\\work-scrape-analyze\\analysis\\utils.py:20\u001b[39m, in \u001b[36mextract_salary\u001b[39m\u001b[34m(salary)\u001b[39m\n\u001b[32m     18\u001b[39m \u001b[38;5;66;03m# '10000 грн, За результатами...'\u001b[39;00m\n\u001b[32m     19\u001b[39m salary_up_to = \u001b[38;5;28mint\u001b[39m(salary_cols[\u001b[32m1\u001b[39m]) \u001b[38;5;28;01mif\u001b[39;00m \u001b[38;5;28mlen\u001b[39m(salary_cols) > \u001b[32m1\u001b[39m \u001b[38;5;28;01melse\u001b[39;00m \u001b[38;5;28mint\u001b[39m(salary_cols[\u001b[32m0\u001b[39m])\n\u001b[32m---> \u001b[39m\u001b[32m20\u001b[39m salary_from = \u001b[38;5;28;43mint\u001b[39;49m\u001b[43m(\u001b[49m\u001b[43msalary_cols\u001b[49m\u001b[43m[\u001b[49m\u001b[32;43m0\u001b[39;49m\u001b[43m]\u001b[49m\u001b[43m)\u001b[49m\n\u001b[32m     21\u001b[39m salary_conditions = parts[\u001b[32m1\u001b[39m] \u001b[38;5;28;01mif\u001b[39;00m \u001b[38;5;28mlen\u001b[39m(parts) > \u001b[32m1\u001b[39m \u001b[38;5;28;01melse\u001b[39;00m np.nan\n\u001b[32m     23\u001b[39m \u001b[38;5;28;01mreturn\u001b[39;00m salary_from, salary_up_to, salary_conditions\n",
      "\u001b[31mValueError\u001b[39m: invalid literal for int() with base 10: ''"
     ]
    }
   ],
   "source": [
    "%cd $abs_path\n",
    "from analysis.utils import extract_salary, classify_skills\n",
    "\n",
    "\n",
    "df_jobs[[\"salary from\", \"salary up to\", \"salary conditions\"]] = df_jobs[\"salary\"].apply(\n",
    "    lambda x: pd.Series(extract_salary(x))\n",
    ")\n"
   ]
  },
  {
   "cell_type": "markdown",
   "id": "2791ff95",
   "metadata": {},
   "source": [
    "#### Clean Unneeded Columns\n",
    "Removes the `job_data` and `salary` columns from the DataFrame to streamline further analysis."
   ]
  },
  {
   "cell_type": "code",
   "execution_count": 9,
   "id": "1597d482",
   "metadata": {
    "ExecuteTime": {
     "end_time": "2025-07-28T18:15:48.580628Z",
     "start_time": "2025-07-28T18:15:48.554479Z"
    }
   },
   "outputs": [
    {
     "data": {
      "text/html": [
       "<div>\n",
       "<style scoped>\n",
       "    .dataframe tbody tr th:only-of-type {\n",
       "        vertical-align: middle;\n",
       "    }\n",
       "\n",
       "    .dataframe tbody tr th {\n",
       "        vertical-align: top;\n",
       "    }\n",
       "\n",
       "    .dataframe thead th {\n",
       "        text-align: right;\n",
       "    }\n",
       "</style>\n",
       "<table border=\"1\" class=\"dataframe\">\n",
       "  <thead>\n",
       "    <tr style=\"text-align: right;\">\n",
       "      <th></th>\n",
       "      <th>job_id</th>\n",
       "      <th>title</th>\n",
       "      <th>requirements</th>\n",
       "      <th>company</th>\n",
       "      <th>location</th>\n",
       "      <th>conditions</th>\n",
       "      <th>lenguas</th>\n",
       "    </tr>\n",
       "  </thead>\n",
       "  <tbody>\n",
       "    <tr>\n",
       "      <th>0</th>\n",
       "      <td>6833869</td>\n",
       "      <td>Конструктор одягу</td>\n",
       "      <td>[Уважність, Знання САПР, Clo3D]</td>\n",
       "      <td>Annkers;Легка промисловість; 10-50 співробітників</td>\n",
       "      <td>NaN</td>\n",
       "      <td>Повна зайнятість, неповна зайнятість. Досвід р...</td>\n",
       "      <td>NaN</td>\n",
       "    </tr>\n",
       "    <tr>\n",
       "      <th>1</th>\n",
       "      <td>6869512</td>\n",
       "      <td>Різноробочий на будівництво, озеленення</td>\n",
       "      <td>[Відповідальність, Активність, Дизайн, Уважніс...</td>\n",
       "      <td>Family Building (Оніщенко М.В., ФОП);Будівницт...</td>\n",
       "      <td>NaN</td>\n",
       "      <td>Повна зайнятість. Також готові взяти студента....</td>\n",
       "      <td>NaN</td>\n",
       "    </tr>\n",
       "    <tr>\n",
       "      <th>2</th>\n",
       "      <td>6709504</td>\n",
       "      <td>Відеооператор, режисер монтажу</td>\n",
       "      <td>[Adobe Premiere Pro, Adobe, Робота в команді, ...</td>\n",
       "      <td>Інформер;ЗМІ, медіа; менше 10 співробітників</td>\n",
       "      <td>NaN</td>\n",
       "      <td>Повна зайнятість. Досвід роботи від 1 року.</td>\n",
       "      <td>NaN</td>\n",
       "    </tr>\n",
       "    <tr>\n",
       "      <th>3</th>\n",
       "      <td>6763612</td>\n",
       "      <td>Закрійник, швея-кравець в ательє</td>\n",
       "      <td>[Пошиття одягу, Шиття, Ремонт одягу]</td>\n",
       "      <td>Voznesenska;Послуги для населення та бізнесу; ...</td>\n",
       "      <td>NaN</td>\n",
       "      <td>Повна зайнятість. Також готові взяти людину з ...</td>\n",
       "      <td>NaN</td>\n",
       "    </tr>\n",
       "    <tr>\n",
       "      <th>4</th>\n",
       "      <td>6418075</td>\n",
       "      <td>Моушн-дизайнер, відеограф, військовослужбовець</td>\n",
       "      <td>[Adobe Photoshop, Adobe Illustrator, Adobe Lig...</td>\n",
       "      <td>Kraken, спецпідрозділ ГУР;Сили оборони; більше...</td>\n",
       "      <td>NaN</td>\n",
       "      <td>Повна зайнятість. Досвід роботи від 1 року.</td>\n",
       "      <td>NaN</td>\n",
       "    </tr>\n",
       "    <tr>\n",
       "      <th>...</th>\n",
       "      <td>...</td>\n",
       "      <td>...</td>\n",
       "      <td>...</td>\n",
       "      <td>...</td>\n",
       "      <td>...</td>\n",
       "      <td>...</td>\n",
       "      <td>...</td>\n",
       "    </tr>\n",
       "    <tr>\n",
       "      <th>2022</th>\n",
       "      <td>4893852</td>\n",
       "      <td>Закрійник у швейний цех (виробництво спецодягу)</td>\n",
       "      <td>[Відповідальність, Пунктуальність, Порядність]</td>\n",
       "      <td>Лідер, швейна фабрика, ТОВ;Легка промисловість...</td>\n",
       "      <td>NaN</td>\n",
       "      <td>Повна зайнятість. Досвід роботи від 2 років.</td>\n",
       "      <td>NaN</td>\n",
       "    </tr>\n",
       "    <tr>\n",
       "      <th>2023</th>\n",
       "      <td>6334339</td>\n",
       "      <td>Оператор 3D-принтера, 3D-друкар</td>\n",
       "      <td>[Відповідальність, Здатність до навчання, Уваж...</td>\n",
       "      <td>Хімічні Авіаційні Технології, ТОВ;Машинобудува...</td>\n",
       "      <td>NaN</td>\n",
       "      <td>Повна зайнятість. Досвід роботи від 1 року.</td>\n",
       "      <td>NaN</td>\n",
       "    </tr>\n",
       "    <tr>\n",
       "      <th>2024</th>\n",
       "      <td>6312637</td>\n",
       "      <td>Фотограф</td>\n",
       "      <td>[Adobe Photoshop, Adobe Lightroom, Adobe, Фото...</td>\n",
       "      <td>Революшн, АН, ТОВ;Нерухомість; 50-250 співробі...</td>\n",
       "      <td>NaN</td>\n",
       "      <td>Повна зайнятість, неповна зайнятість. Досвід р...</td>\n",
       "      <td>NaN</td>\n",
       "    </tr>\n",
       "    <tr>\n",
       "      <th>2025</th>\n",
       "      <td>2355722</td>\n",
       "      <td>2D-дизайнер</td>\n",
       "      <td>[Adobe Photoshop, Adobe Illustrator, CorelDRAW...</td>\n",
       "      <td>Гарант і Партнери;Легка промисловість; 50-250 ...</td>\n",
       "      <td>NaN</td>\n",
       "      <td>Повна зайнятість. Також готові взяти студента,...</td>\n",
       "      <td>NaN</td>\n",
       "    </tr>\n",
       "    <tr>\n",
       "      <th>2026</th>\n",
       "      <td>6600802</td>\n",
       "      <td>Швачка, майстриня з пошиву, кравчиня</td>\n",
       "      <td>[]</td>\n",
       "      <td>Юзькова Л.С., ФОП;Легка промисловість; менше 1...</td>\n",
       "      <td>NaN</td>\n",
       "      <td>Повна зайнятість.</td>\n",
       "      <td>NaN</td>\n",
       "    </tr>\n",
       "  </tbody>\n",
       "</table>\n",
       "<p>2027 rows × 7 columns</p>\n",
       "</div>"
      ],
      "text/plain": [
       "       job_id                                            title  \\\n",
       "0     6833869                                Конструктор одягу   \n",
       "1     6869512          Різноробочий на будівництво, озеленення   \n",
       "2     6709504                   Відеооператор, режисер монтажу   \n",
       "3     6763612                 Закрійник, швея-кравець в ательє   \n",
       "4     6418075   Моушн-дизайнер, відеограф, військовослужбовець   \n",
       "...       ...                                              ...   \n",
       "2022  4893852  Закрійник у швейний цех (виробництво спецодягу)   \n",
       "2023  6334339                  Оператор 3D-принтера, 3D-друкар   \n",
       "2024  6312637                                         Фотограф   \n",
       "2025  2355722                                      2D-дизайнер   \n",
       "2026  6600802             Швачка, майстриня з пошиву, кравчиня   \n",
       "\n",
       "                                           requirements  \\\n",
       "0                       [Уважність, Знання САПР, Clo3D]   \n",
       "1     [Відповідальність, Активність, Дизайн, Уважніс...   \n",
       "2     [Adobe Premiere Pro, Adobe, Робота в команді, ...   \n",
       "3                  [Пошиття одягу, Шиття, Ремонт одягу]   \n",
       "4     [Adobe Photoshop, Adobe Illustrator, Adobe Lig...   \n",
       "...                                                 ...   \n",
       "2022     [Відповідальність, Пунктуальність, Порядність]   \n",
       "2023  [Відповідальність, Здатність до навчання, Уваж...   \n",
       "2024  [Adobe Photoshop, Adobe Lightroom, Adobe, Фото...   \n",
       "2025  [Adobe Photoshop, Adobe Illustrator, CorelDRAW...   \n",
       "2026                                                 []   \n",
       "\n",
       "                                                company location  \\\n",
       "0     Annkers;Легка промисловість; 10-50 співробітників      NaN   \n",
       "1     Family Building (Оніщенко М.В., ФОП);Будівницт...      NaN   \n",
       "2          Інформер;ЗМІ, медіа; менше 10 співробітників      NaN   \n",
       "3     Voznesenska;Послуги для населення та бізнесу; ...      NaN   \n",
       "4     Kraken, спецпідрозділ ГУР;Сили оборони; більше...      NaN   \n",
       "...                                                 ...      ...   \n",
       "2022  Лідер, швейна фабрика, ТОВ;Легка промисловість...      NaN   \n",
       "2023  Хімічні Авіаційні Технології, ТОВ;Машинобудува...      NaN   \n",
       "2024  Революшн, АН, ТОВ;Нерухомість; 50-250 співробі...      NaN   \n",
       "2025  Гарант і Партнери;Легка промисловість; 50-250 ...      NaN   \n",
       "2026  Юзькова Л.С., ФОП;Легка промисловість; менше 1...      NaN   \n",
       "\n",
       "                                             conditions lenguas  \n",
       "0     Повна зайнятість, неповна зайнятість. Досвід р...     NaN  \n",
       "1     Повна зайнятість. Також готові взяти студента....     NaN  \n",
       "2           Повна зайнятість. Досвід роботи від 1 року.     NaN  \n",
       "3     Повна зайнятість. Також готові взяти людину з ...     NaN  \n",
       "4           Повна зайнятість. Досвід роботи від 1 року.     NaN  \n",
       "...                                                 ...     ...  \n",
       "2022       Повна зайнятість. Досвід роботи від 2 років.     NaN  \n",
       "2023        Повна зайнятість. Досвід роботи від 1 року.     NaN  \n",
       "2024  Повна зайнятість, неповна зайнятість. Досвід р...     NaN  \n",
       "2025  Повна зайнятість. Також готові взяти студента,...     NaN  \n",
       "2026                                  Повна зайнятість.     NaN  \n",
       "\n",
       "[2027 rows x 7 columns]"
      ]
     },
     "execution_count": 9,
     "metadata": {},
     "output_type": "execute_result"
    }
   ],
   "source": [
    "df_jobs.drop(columns=[\"job_data\", \"salary\"], inplace=True)\n",
    "df_jobs"
   ]
  },
  {
   "cell_type": "markdown",
   "id": "c88246a0",
   "metadata": {},
   "source": [
    "#### Most Common Job Titles\n",
    "Extracts and counts individual job titles from the `title` column, revealing the top 25 most frequent roles in the dataset."
   ]
  },
  {
   "cell_type": "code",
   "execution_count": 10,
   "id": "df142a1c",
   "metadata": {
    "ExecuteTime": {
     "end_time": "2025-07-28T18:15:54.196509Z",
     "start_time": "2025-07-28T18:15:54.172895Z"
    }
   },
   "outputs": [
    {
     "data": {
      "text/plain": [
       "title\n",
       "Швачка                                   227\n",
       "Флорист                                  112\n",
       "Графічний дизайнер                        95\n",
       "Швея                                      43\n",
       "Архітектор                                36\n",
       "Дизайнер                                  29\n",
       "Конструктор меблів                        27\n",
       "Закрійник                                 27\n",
       "Помічник флориста                         23\n",
       "Дизайнер інтер'єру                        21\n",
       "Дизайнер меблів                           19\n",
       "Фотограф                                  17\n",
       "Розкрійник                                14\n",
       "Конструктор одягу                         11\n",
       "Відеомонтажер                             11\n",
       "Кравець                                   10\n",
       "Кравчиня                                  10\n",
       "Відеооператор                              9\n",
       "Монтажер відео                             8\n",
       "Художник                                   7\n",
       "Оператор вишивальної машини                7\n",
       "Швачка, кравчиня                           7\n",
       "Продавець-флорист                          7\n",
       "Дизайнер-графік                            7\n",
       "Фотограф у дитячий розважальний центр      6\n",
       "Name: count, dtype: int64"
      ]
     },
     "execution_count": 10,
     "metadata": {},
     "output_type": "execute_result"
    }
   ],
   "source": [
    "all_jobs = df_jobs[\"title\"].explode().dropna()\n",
    "all_jobs = all_jobs.value_counts()\n",
    "all_jobs[:25]"
   ]
  },
  {
   "cell_type": "markdown",
   "id": "09ec34b1",
   "metadata": {},
   "source": [
    "Normalize names (convert to lowercase and remove extra spaces).\n",
    "Replace variations of names with a single form (a little manual adjustment)."
   ]
  },
  {
   "cell_type": "code",
   "execution_count": 11,
   "id": "22f91cb5",
   "metadata": {
    "ExecuteTime": {
     "end_time": "2025-07-28T18:16:00.340673Z",
     "start_time": "2025-07-28T18:16:00.311418Z"
    }
   },
   "outputs": [
    {
     "data": {
      "text/plain": [
       "title\n",
       "швачка                         227\n",
       "флорист                        112\n",
       "графічний дизайнер              95\n",
       "швея                            43\n",
       "архітектор                      36\n",
       "дизайнер                        29\n",
       "конструктор меблів              27\n",
       "закрійник                       27\n",
       "помічник флориста               23\n",
       "дизайнер інтер'єру              21\n",
       "дизайнер меблів                 19\n",
       "фотограф                        17\n",
       "розкрійник                      14\n",
       "відеомонтажер                   11\n",
       "конструктор одягу               11\n",
       "кравець                         10\n",
       "motion designer                 10\n",
       "кравчиня                        10\n",
       "відеооператор                    9\n",
       "монтажер відео                   8\n",
       "дизайнер-графік                  7\n",
       "продавець-флорист                7\n",
       "оператор вишивальної машини      7\n",
       "швачка, кравчиня                 7\n",
       "художник                         7\n",
       "Name: count, dtype: int64"
      ]
     },
     "execution_count": 11,
     "metadata": {},
     "output_type": "execute_result"
    }
   ],
   "source": [
    "normalized_jobs = df_jobs[\"title\"].explode().dropna().str.lower().str.strip()\n",
    "\n",
    "job_replacements = {\n",
    "    \"project manager\": \"project manager\",\n",
    "    \"project-менеджер\": \"project manager\",\n",
    "    \"project менеджер\": \"project manager\",\n",
    "    \"проджект-менеджер\": \"project manager\",\n",
    "    \"smm-менеджер\": \"smm manager\",\n",
    "    \"smm-спеціаліст\": \"smm manager\",\n",
    "    \"smm-менеджер, контент-мейкер\": \"smm manager\",\n",
    "    \"контент-менеджер (smm)\": \"smm manager\",\n",
    "    \"контент-менеджер\": \"content manager\",\n",
    "    \"бізнес-аналітик\": \"data analyst\",\n",
    "    \"аналітик\": \"data analyst\",\n",
    "    \"business analyst\": \"data analyst\",\n",
    "    \"програміст 1c\": \"програміст 1C\",\n",
    "    \"програміст 1с\": \"програміст 1C\",\n",
    "    \"seo-спеціаліст\": \"seo specialist\",\n",
    "    \"junior seo-спеціаліст\": \"seo specialist\",\n",
    "    \"junior seo specialist\": \"seo specialist\",\n",
    "    \"викладач програмування у дитячу школу\": \"вчитель інформатики\",\n",
    "    \"викладач інформатики у it-школу\": \"вчитель інформатики\",\n",
    "    \"інженер технічної підтримки\": \"support manager\",\n",
    "    \"фахівець технічної підтримки\": \"support manager\",\n",
    "    \"customer support representative\": \"support manager\",\n",
    "    \"майстер з ремонту комп'ютерної техніки\": \"сервісний інженер\",\n",
    "    \"спеціаліст з обслуговування терміналів\": \"сервісний інженер\",\n",
    "}\n",
    "\n",
    "normalized_jobs = normalized_jobs.replace(job_replacements)\n",
    "\n",
    "job_counts = normalized_jobs.value_counts()\n",
    "job_counts.head(25)"
   ]
  },
  {
   "cell_type": "markdown",
   "id": "8c433677",
   "metadata": {},
   "source": [
    "#### Import Plotting Library\n",
    "Loads `matplotlib.pyplot` for creating visualizations such as bar charts, line plots, and histograms."
   ]
  },
  {
   "cell_type": "code",
   "execution_count": 12,
   "id": "6ed7aacb",
   "metadata": {
    "ExecuteTime": {
     "end_time": "2025-07-28T18:16:09.517802Z",
     "start_time": "2025-07-28T18:16:09.065433Z"
    }
   },
   "outputs": [],
   "source": [
    "import matplotlib.pyplot as plt"
   ]
  },
  {
   "cell_type": "markdown",
   "id": "a53fc8e1",
   "metadata": {},
   "source": [
    "#### Horizontal Bar Chart of Top 25 IT Vacancies\n",
    "Displays the 25 most frequent IT job titles from `job_counts` using a horizontal bar chart.\n",
    "\n",
    "- `head(25)`: selects the top 25 entries\n",
    "- `kind='barh'`: horizontal bar chart type\n",
    "- `figsize=(8,5)`: sets the size of the chart\n",
    "- `color='green'`: makes the bars green \n",
    "- `plt.title(...)`: adds a title to the chart with 12pt font"
   ]
  },
  {
   "cell_type": "code",
   "execution_count": 13,
   "id": "d7979c7c",
   "metadata": {
    "ExecuteTime": {
     "end_time": "2025-07-28T18:16:13.112964Z",
     "start_time": "2025-07-28T18:16:12.733210Z"
    }
   },
   "outputs": [
    {
     "data": {
      "text/plain": [
       "Text(0.5, 1.0, 'List of 25 most popular IT vacancies on work.ua')"
      ]
     },
     "execution_count": 13,
     "metadata": {},
     "output_type": "execute_result"
    },
    {
     "data": {
      "image/png": "[encoded data removed]",
      "text/plain": [
       "<Figure size 800x500 with 1 Axes>"
      ]
     },
     "metadata": {},
     "output_type": "display_data"
    }
   ],
   "source": [
    "job_counts.head(25).plot(kind='barh', figsize=(8,5), color='green')\n",
    "plt.title(f\"List of 25 most popular IT vacancies on work.ua\", fontsize=12)"
   ]
  },
  {
   "cell_type": "markdown",
   "id": "86453e1b",
   "metadata": {},
   "source": [
    "#### Analysis of Top-25 IT Job Titles and Salaries\n",
    "First, it extracts all job titles from the dataset, removes missing values, and ranks them by frequency. The top 25 most common titles are selected. \n",
    "Next, for each popular job title, the minimum and maximum values are calculated for both “salary from” and “salary up to.” "
   ]
  },
  {
   "cell_type": "code",
   "execution_count": 14,
   "id": "503194b2",
   "metadata": {
    "ExecuteTime": {
     "end_time": "2025-07-28T18:16:16.813203Z",
     "start_time": "2025-07-28T18:16:16.784896Z"
    }
   },
   "outputs": [
    {
     "ename": "KeyError",
     "evalue": "['salary from', 'salary up to']",
     "output_type": "error",
     "traceback": [
      "\u001b[31m---------------------------------------------------------------------------\u001b[39m",
      "\u001b[31mKeyError\u001b[39m                                  Traceback (most recent call last)",
      "\u001b[32m~\\AppData\\Local\\Temp\\ipykernel_8700\\3514484005.py\u001b[39m in \u001b[36m?\u001b[39m\u001b[34m()\u001b[39m\n\u001b[32m      3\u001b[39m all_jobs = all_jobs.value_counts()\n\u001b[32m      4\u001b[39m top_titles = all_jobs.head(\u001b[32m25\u001b[39m).index.tolist()\n\u001b[32m      5\u001b[39m \n\u001b[32m      6\u001b[39m \u001b[38;5;66;03m# only with 'salary'\u001b[39;00m\n\u001b[32m----> \u001b[39m\u001b[32m7\u001b[39m df_clean = df_jobs.dropna(subset=[\u001b[33m\"salary from\"\u001b[39m, \u001b[33m\"salary up to\"\u001b[39m])\n\u001b[32m      8\u001b[39m df_top = df_clean[df_clean[\u001b[33m\"title\"\u001b[39m].isin(top_titles)]\n\u001b[32m      9\u001b[39m \n\u001b[32m     10\u001b[39m \u001b[38;5;66;03m# min & max on each 'title' (job)\u001b[39;00m\n",
      "\u001b[32m~\\projects\\work-scrape-analyze\\.venv\\Lib\\site-packages\\pandas\\core\\frame.py\u001b[39m in \u001b[36m?\u001b[39m\u001b[34m(self, axis, how, thresh, subset, inplace, ignore_index)\u001b[39m\n\u001b[32m   6673\u001b[39m             ax = self._get_axis(agg_axis)\n\u001b[32m   6674\u001b[39m             indices = ax.get_indexer_for(subset)\n\u001b[32m   6675\u001b[39m             check = indices == -\u001b[32m1\u001b[39m\n\u001b[32m   6676\u001b[39m             \u001b[38;5;28;01mif\u001b[39;00m check.any():\n\u001b[32m-> \u001b[39m\u001b[32m6677\u001b[39m                 \u001b[38;5;28;01mraise\u001b[39;00m KeyError(np.array(subset)[check].tolist())\n\u001b[32m   6678\u001b[39m             agg_obj = self.take(indices, axis=agg_axis)\n\u001b[32m   6679\u001b[39m \n\u001b[32m   6680\u001b[39m         \u001b[38;5;28;01mif\u001b[39;00m thresh \u001b[38;5;28;01mis\u001b[39;00m \u001b[38;5;28;01mnot\u001b[39;00m lib.no_default:\n",
      "\u001b[31mKeyError\u001b[39m: ['salary from', 'salary up to']"
     ]
    }
   ],
   "source": [
    "# Top 25\n",
    "all_jobs = df_jobs[\"title\"].explode().dropna()\n",
    "all_jobs = all_jobs.value_counts()\n",
    "top_titles = all_jobs.head(25).index.tolist()\n",
    "\n",
    "# only with 'salary'\n",
    "df_clean = df_jobs.dropna(subset=[\"salary from\", \"salary up to\"])\n",
    "df_top = df_clean[df_clean[\"title\"].isin(top_titles)]\n",
    "\n",
    "# min & max on each 'title' (job)\n",
    "df_range = (\n",
    "    df_top.groupby(\"title\")[[\"salary from\", \"salary up to\"]]\n",
    "    .agg([\"min\", \"max\"])\n",
    "    .reset_index()\n",
    ")\n",
    "df_range.columns = [\"title\", \"salary_from_min\", \"salary_from_max\", \"salary_to_min\", \"salary_to_max\"]\n"
   ]
  },
  {
   "cell_type": "markdown",
   "id": "eed76dd2",
   "metadata": {},
   "source": [
    "#### Visualization of Salary Ranges for Top IT Vacancies\n",
    "To compare min and max salary ranges for the 25 most frequent IT job titles:\n",
    "- The first bar segment (`salary_from_min`) is plotted in **light blue**, representing the base salary.\n",
    "- The second bar segment (`delta`) is stacked to the right of the first, shown in **salmon**, indicating the range up to the maximum salary.\n",
    "Result: A comprehensive visual summary of salary variability across popular IT roles."
   ]
  },
  {
   "cell_type": "code",
   "execution_count": 15,
   "id": "56b4db50",
   "metadata": {
    "ExecuteTime": {
     "end_time": "2025-07-28T18:16:21.221715Z",
     "start_time": "2025-07-28T18:16:20.878335Z"
    }
   },
   "outputs": [
    {
     "ename": "NameError",
     "evalue": "name 'df_range' is not defined",
     "output_type": "error",
     "traceback": [
      "\u001b[31m---------------------------------------------------------------------------\u001b[39m",
      "\u001b[31mNameError\u001b[39m                                 Traceback (most recent call last)",
      "\u001b[36mCell\u001b[39m\u001b[36m \u001b[39m\u001b[32mIn[15]\u001b[39m\u001b[32m, line 1\u001b[39m\n\u001b[32m----> \u001b[39m\u001b[32m1\u001b[39m df_range[\u001b[33m\"\u001b[39m\u001b[33mdelta\u001b[39m\u001b[33m\"\u001b[39m] = \u001b[43mdf_range\u001b[49m[\u001b[33m\"\u001b[39m\u001b[33msalary_to_max\u001b[39m\u001b[33m\"\u001b[39m] - df_range[\u001b[33m\"\u001b[39m\u001b[33msalary_from_min\u001b[39m\u001b[33m\"\u001b[39m]\n\u001b[32m      3\u001b[39m plt.figure(figsize=(\u001b[32m12\u001b[39m,\u001b[32m10\u001b[39m))\n\u001b[32m      5\u001b[39m plt.barh(df_range[\u001b[33m\"\u001b[39m\u001b[33mtitle\u001b[39m\u001b[33m\"\u001b[39m],\n\u001b[32m      6\u001b[39m          df_range[\u001b[33m\"\u001b[39m\u001b[33msalary_from_min\u001b[39m\u001b[33m\"\u001b[39m],\n\u001b[32m      7\u001b[39m          color=\u001b[33m\"\u001b[39m\u001b[33mlightblue\u001b[39m\u001b[33m\"\u001b[39m, label=\u001b[33m\"\u001b[39m\u001b[33mMin salary\u001b[39m\u001b[33m\"\u001b[39m)\n",
      "\u001b[31mNameError\u001b[39m: name 'df_range' is not defined"
     ]
    }
   ],
   "source": [
    "df_range[\"delta\"] = df_range[\"salary_to_max\"] - df_range[\"salary_from_min\"]\n",
    "\n",
    "plt.figure(figsize=(12,10))\n",
    "\n",
    "plt.barh(df_range[\"title\"],\n",
    "         df_range[\"salary_from_min\"],\n",
    "         color=\"lightblue\", label=\"Min salary\")\n",
    "\n",
    "plt.barh(df_range[\"title\"],\n",
    "         df_range[\"delta\"],\n",
    "         left=df_range[\"salary_from_min\"],\n",
    "         color=\"salmon\", label=\"Salary range to max\")\n",
    "\n",
    "for i in range(len(df_range)):\n",
    "    plt.text(df_range[\"salary_from_min\"].iloc[i], i,\n",
    "             f\"{int(df_range['salary_from_min'].iloc[i])}\", va=\"center\", ha=\"center\", color=\"black\", fontsize=8)\n",
    "    plt.text(df_range[\"salary_to_max\"].iloc[i], i,\n",
    "             f\"{int(df_range['salary_to_max'].iloc[i])}\", va=\"center\", ha=\"left\", color=\"black\", fontsize=8)\n",
    "\n",
    "plt.xticks(rotation=45, ha=\"right\")\n",
    "plt.xlabel(\"Salary\")\n",
    "plt.ylabel(\"Vacancies with the specified salary (top 25 by frequency)\")\n",
    "plt.title(\"Minimum and maximum salaries for the most common IT vacancies (where the salary is indicated)\")\n",
    "plt.legend()\n",
    "plt.tight_layout()\n",
    "plt.show()\n"
   ]
  },
  {
   "cell_type": "markdown",
   "id": "6a9e085c",
   "metadata": {},
   "source": [
    "#### Project topic: Skill analysis for specific developer roles.\n",
    "While the DataFrame `df_jobs` allows you to analyze skills by various categories,\n",
    "the main goal of the project is to **collect and visualize skills** (e.g. **Python developer**). To do this, we will narrow the search to jobs **named by keywords retrieved from `words.json`**."
   ]
  },
  {
   "cell_type": "markdown",
   "id": "7de01fec",
   "metadata": {},
   "source": [
    "#### Load and Rename Refined Job Requirements Dataset\n",
    "Result: `df_refine_reqs` now holds the refined job requirements, ready for analysis or merging"
   ]
  },
  {
   "cell_type": "code",
   "execution_count": 16,
   "id": "b07f4202",
   "metadata": {
    "ExecuteTime": {
     "end_time": "2025-07-28T18:16:34.074328Z",
     "start_time": "2025-07-28T18:16:34.051392Z"
    }
   },
   "outputs": [
    {
     "data": {
      "text/html": [
       "<div>\n",
       "<style scoped>\n",
       "    .dataframe tbody tr th:only-of-type {\n",
       "        vertical-align: middle;\n",
       "    }\n",
       "\n",
       "    .dataframe tbody tr th {\n",
       "        vertical-align: top;\n",
       "    }\n",
       "\n",
       "    .dataframe thead th {\n",
       "        text-align: right;\n",
       "    }\n",
       "</style>\n",
       "<table border=\"1\" class=\"dataframe\">\n",
       "  <thead>\n",
       "    <tr style=\"text-align: right;\">\n",
       "      <th></th>\n",
       "      <th>rejob_id</th>\n",
       "      <th>requirements</th>\n",
       "    </tr>\n",
       "  </thead>\n",
       "  <tbody>\n",
       "    <tr>\n",
       "      <th>0</th>\n",
       "      <td>6898720</td>\n",
       "      <td>[офіційне працевлаштування, Adobe, AI, Відпові...</td>\n",
       "    </tr>\n",
       "    <tr>\n",
       "      <th>1</th>\n",
       "      <td>6386509</td>\n",
       "      <td>[Креативність, уважність, Уважність до деталей...</td>\n",
       "    </tr>\n",
       "    <tr>\n",
       "      <th>2</th>\n",
       "      <td>6921853</td>\n",
       "      <td>[Створення прототипів, Adobe, Відповідальність...</td>\n",
       "    </tr>\n",
       "    <tr>\n",
       "      <th>3</th>\n",
       "      <td>6400312</td>\n",
       "      <td>[Adobe, User Flow, Адаптивність, Дизайн, Figma...</td>\n",
       "    </tr>\n",
       "    <tr>\n",
       "      <th>4</th>\n",
       "      <td>5688081</td>\n",
       "      <td>[Figma, досвід роботи]</td>\n",
       "    </tr>\n",
       "    <tr>\n",
       "      <th>...</th>\n",
       "      <td>...</td>\n",
       "      <td>...</td>\n",
       "    </tr>\n",
       "    <tr>\n",
       "      <th>189</th>\n",
       "      <td>6856621</td>\n",
       "      <td>[Проєктування, Figma, Digital Art]</td>\n",
       "    </tr>\n",
       "    <tr>\n",
       "      <th>190</th>\n",
       "      <td>6845707</td>\n",
       "      <td>[Adobe, Бажання працювати, Відповідальність, Д...</td>\n",
       "    </tr>\n",
       "    <tr>\n",
       "      <th>191</th>\n",
       "      <td>6930613</td>\n",
       "      <td>[Креативність, Adobe, SMM, Figma, Adobe Photos...</td>\n",
       "    </tr>\n",
       "    <tr>\n",
       "      <th>192</th>\n",
       "      <td>6924202</td>\n",
       "      <td>[Відкрита, Marketing, офіційне працевлаштуванн...</td>\n",
       "    </tr>\n",
       "    <tr>\n",
       "      <th>193</th>\n",
       "      <td>6012102</td>\n",
       "      <td>[Adobe, Відповідальність, уважність, Уважність...</td>\n",
       "    </tr>\n",
       "  </tbody>\n",
       "</table>\n",
       "<p>194 rows × 2 columns</p>\n",
       "</div>"
      ],
      "text/plain": [
       "     rejob_id                                       requirements\n",
       "0     6898720  [офіційне працевлаштування, Adobe, AI, Відпові...\n",
       "1     6386509  [Креативність, уважність, Уважність до деталей...\n",
       "2     6921853  [Створення прототипів, Adobe, Відповідальність...\n",
       "3     6400312  [Adobe, User Flow, Адаптивність, Дизайн, Figma...\n",
       "4     5688081                             [Figma, досвід роботи]\n",
       "..        ...                                                ...\n",
       "189   6856621                 [Проєктування, Figma, Digital Art]\n",
       "190   6845707  [Adobe, Бажання працювати, Відповідальність, Д...\n",
       "191   6930613  [Креативність, Adobe, SMM, Figma, Adobe Photos...\n",
       "192   6924202  [Відкрита, Marketing, офіційне працевлаштуванн...\n",
       "193   6012102  [Adobe, Відповідальність, уважність, Уважність...\n",
       "\n",
       "[194 rows x 2 columns]"
      ]
     },
     "execution_count": 16,
     "metadata": {},
     "output_type": "execute_result"
    }
   ],
   "source": [
    "refine_path = os.path.join(data_path, \"refine_reqs.jl\")\n",
    "df_refine_reqs = pd.read_json(refine_path, lines=True)\n",
    "df_refine_reqs.rename(columns={\"job_id\": \"rejob_id\"}, inplace=True)\n",
    "df_refine_reqs"
   ]
  },
  {
   "cell_type": "markdown",
   "id": "00ef645f",
   "metadata": {},
   "source": [
    "#### Integrating Refined Job Requirements into Main Dataset\n",
    "This code integrates detailed job requirements into the main `df_jobs` DataFrame and prepares a subset of merged data: only matching jobs get enriched requirement details.\n",
    "Creates `df_refine_only`, a dataset where refined requirements are available alongside other job info."
   ]
  },
  {
   "cell_type": "code",
   "execution_count": 17,
   "id": "00d35fb3",
   "metadata": {
    "ExecuteTime": {
     "end_time": "2025-07-28T18:16:38.068485Z",
     "start_time": "2025-07-28T18:16:38.046738Z"
    }
   },
   "outputs": [],
   "source": [
    "reqs_map = df_refine_reqs.set_index(\"rejob_id\")[\"requirements\"]\n",
    "df_jobs.loc[df_jobs[\"job_id\"].isin(reqs_map.index), \"requirements\"] = df_jobs[\"job_id\"].map(reqs_map)\n",
    "\n",
    "df_refine_only = df_jobs.merge(df_refine_reqs, left_on=\"job_id\", right_on=\"rejob_id\")"
   ]
  },
  {
   "cell_type": "markdown",
   "id": "54cb16bb",
   "metadata": {},
   "source": [
    "#### Final Cleanup and Renaming of Refined Job Dataset\n",
    "This final step polishes the merged `df_refine_only` dataset for clearer structure and usability"
   ]
  },
  {
   "cell_type": "code",
   "execution_count": 18,
   "id": "e25037ec",
   "metadata": {
    "ExecuteTime": {
     "end_time": "2025-07-28T18:16:41.162882Z",
     "start_time": "2025-07-28T18:16:41.141812Z"
    }
   },
   "outputs": [
    {
     "data": {
      "text/html": [
       "<div>\n",
       "<style scoped>\n",
       "    .dataframe tbody tr th:only-of-type {\n",
       "        vertical-align: middle;\n",
       "    }\n",
       "\n",
       "    .dataframe tbody tr th {\n",
       "        vertical-align: top;\n",
       "    }\n",
       "\n",
       "    .dataframe thead th {\n",
       "        text-align: right;\n",
       "    }\n",
       "</style>\n",
       "<table border=\"1\" class=\"dataframe\">\n",
       "  <thead>\n",
       "    <tr style=\"text-align: right;\">\n",
       "      <th></th>\n",
       "      <th>job_id</th>\n",
       "      <th>title</th>\n",
       "      <th>company</th>\n",
       "      <th>location</th>\n",
       "      <th>conditions</th>\n",
       "      <th>lenguas</th>\n",
       "      <th>skills</th>\n",
       "    </tr>\n",
       "  </thead>\n",
       "  <tbody>\n",
       "    <tr>\n",
       "      <th>0</th>\n",
       "      <td>6821371</td>\n",
       "      <td>Junior UI/UX Designer</td>\n",
       "      <td>WinWin Travel;Туризм; менше 10 співробітників</td>\n",
       "      <td>Дистанційна робота</td>\n",
       "      <td>Повна зайнятість, неповна зайнятість. Також го...</td>\n",
       "      <td>NaN</td>\n",
       "      <td>[Figma, Google Sheets]</td>\n",
       "    </tr>\n",
       "    <tr>\n",
       "      <th>1</th>\n",
       "      <td>5761195</td>\n",
       "      <td>Designer (affiliate marketing)</td>\n",
       "      <td>Punch Agency;Маркетинг, реклама, PR; 10-50 спі...</td>\n",
       "      <td>Дистанційна робота</td>\n",
       "      <td>Повна зайнятість. Досвід роботи від 1 року.</td>\n",
       "      <td>Англійська — середній</td>\n",
       "      <td>[Marketing, Adobe, Figma, Комунікабельність, A...</td>\n",
       "    </tr>\n",
       "    <tr>\n",
       "      <th>2</th>\n",
       "      <td>6895120</td>\n",
       "      <td>Веб-дизайнер/дизайнерка</td>\n",
       "      <td>Starlight Media;ЗМІ, медіа; більше 1000 співро...</td>\n",
       "      <td>Дистанційна робота</td>\n",
       "      <td>Повна зайнятість. Досвід роботи від 2 років. В...</td>\n",
       "      <td>NaN</td>\n",
       "      <td>[Відкритість, Adobe, уважність, Уважність до д...</td>\n",
       "    </tr>\n",
       "    <tr>\n",
       "      <th>3</th>\n",
       "      <td>6916681</td>\n",
       "      <td>2D Artist (Mobile Games)</td>\n",
       "      <td>COG Interactive;IT; менше 10 співробітників</td>\n",
       "      <td>Дистанційна робота</td>\n",
       "      <td>Повна зайнятість. Досвід роботи від 2 років.</td>\n",
       "      <td>NaN</td>\n",
       "      <td>[Креативность, Unity, Figma]</td>\n",
       "    </tr>\n",
       "    <tr>\n",
       "      <th>4</th>\n",
       "      <td>5475076</td>\n",
       "      <td>Викладач з web-дизайну</td>\n",
       "      <td>ДарвінЛенд;Освіта, наука; 10-50 співробітників</td>\n",
       "      <td>Дистанційна робота</td>\n",
       "      <td>Неповна зайнятість. Досвід роботи від 1 року.</td>\n",
       "      <td>NaN</td>\n",
       "      <td>[Викладання, Figma]</td>\n",
       "    </tr>\n",
       "    <tr>\n",
       "      <th>...</th>\n",
       "      <td>...</td>\n",
       "      <td>...</td>\n",
       "      <td>...</td>\n",
       "      <td>...</td>\n",
       "      <td>...</td>\n",
       "      <td>...</td>\n",
       "      <td>...</td>\n",
       "    </tr>\n",
       "    <tr>\n",
       "      <th>189</th>\n",
       "      <td>3648402</td>\n",
       "      <td>Маркетинг-дизайнер в агентство digital-маркетингу</td>\n",
       "      <td>Blender, маркетингова агенція;Маркетинг, рекла...</td>\n",
       "      <td>NaN</td>\n",
       "      <td>Повна зайнятість. Також готові взяти студента....</td>\n",
       "      <td>NaN</td>\n",
       "      <td>[Створення рекламних креативів, Adobe, Blender...</td>\n",
       "    </tr>\n",
       "    <tr>\n",
       "      <th>190</th>\n",
       "      <td>6811084</td>\n",
       "      <td>Графічний дизайнер</td>\n",
       "      <td>Blest;Будівельна промисловість, деревообробка;...</td>\n",
       "      <td>NaN</td>\n",
       "      <td>Повна зайнятість. Досвід роботи від 2 років.</td>\n",
       "      <td>NaN</td>\n",
       "      <td>[Створення рекламних креативів, офіційне праце...</td>\n",
       "    </tr>\n",
       "    <tr>\n",
       "      <th>191</th>\n",
       "      <td>6899164</td>\n",
       "      <td>Графічний дизайнер для e-commerce (3D, AI-конт...</td>\n",
       "      <td>AG LLC;Роздрібна торгівля; 10-50 співробітників</td>\n",
       "      <td>Дистанційна робота</td>\n",
       "      <td>Повна зайнятість. Досвід роботи від 1 року.</td>\n",
       "      <td>Англійська — вище середнього</td>\n",
       "      <td>[AI, Adobe, Adobe Photoshop, Дизайн, Canva, Fi...</td>\n",
       "    </tr>\n",
       "    <tr>\n",
       "      <th>192</th>\n",
       "      <td>5566977</td>\n",
       "      <td>Designer</td>\n",
       "      <td>Trfman Digital LTD;Маркетинг, реклама, PR; 10-...</td>\n",
       "      <td>Дистанційна робота</td>\n",
       "      <td>Неповна зайнятість. Також готові взяти студент...</td>\n",
       "      <td>NaN</td>\n",
       "      <td>[уважність, Уважність до деталей, Figma, Стара...</td>\n",
       "    </tr>\n",
       "    <tr>\n",
       "      <th>193</th>\n",
       "      <td>6929908</td>\n",
       "      <td>Графічний дизайнер (1+1 media)</td>\n",
       "      <td>1+1 media;ЗМІ, медіа; більше 1000 співробітників</td>\n",
       "      <td>NaN</td>\n",
       "      <td>Повна зайнятість. Досвід роботи від 1 року.</td>\n",
       "      <td>NaN</td>\n",
       "      <td>[Відкрита, Креативність, Відкритість, Adobe, В...</td>\n",
       "    </tr>\n",
       "  </tbody>\n",
       "</table>\n",
       "<p>194 rows × 7 columns</p>\n",
       "</div>"
      ],
      "text/plain": [
       "      job_id                                              title  \\\n",
       "0    6821371                              Junior UI/UX Designer   \n",
       "1    5761195                     Designer (affiliate marketing)   \n",
       "2    6895120                            Веб-дизайнер/дизайнерка   \n",
       "3    6916681                           2D Artist (Mobile Games)   \n",
       "4    5475076                             Викладач з web-дизайну   \n",
       "..       ...                                                ...   \n",
       "189  3648402  Маркетинг-дизайнер в агентство digital-маркетингу   \n",
       "190  6811084                                 Графічний дизайнер   \n",
       "191  6899164  Графічний дизайнер для e-commerce (3D, AI-конт...   \n",
       "192  5566977                                           Designer   \n",
       "193  6929908                     Графічний дизайнер (1+1 media)   \n",
       "\n",
       "                                               company            location  \\\n",
       "0        WinWin Travel;Туризм; менше 10 співробітників  Дистанційна робота   \n",
       "1    Punch Agency;Маркетинг, реклама, PR; 10-50 спі...  Дистанційна робота   \n",
       "2    Starlight Media;ЗМІ, медіа; більше 1000 співро...  Дистанційна робота   \n",
       "3          COG Interactive;IT; менше 10 співробітників  Дистанційна робота   \n",
       "4       ДарвінЛенд;Освіта, наука; 10-50 співробітників  Дистанційна робота   \n",
       "..                                                 ...                 ...   \n",
       "189  Blender, маркетингова агенція;Маркетинг, рекла...                 NaN   \n",
       "190  Blest;Будівельна промисловість, деревообробка;...                 NaN   \n",
       "191    AG LLC;Роздрібна торгівля; 10-50 співробітників  Дистанційна робота   \n",
       "192  Trfman Digital LTD;Маркетинг, реклама, PR; 10-...  Дистанційна робота   \n",
       "193   1+1 media;ЗМІ, медіа; більше 1000 співробітників                 NaN   \n",
       "\n",
       "                                            conditions  \\\n",
       "0    Повна зайнятість, неповна зайнятість. Також го...   \n",
       "1          Повна зайнятість. Досвід роботи від 1 року.   \n",
       "2    Повна зайнятість. Досвід роботи від 2 років. В...   \n",
       "3         Повна зайнятість. Досвід роботи від 2 років.   \n",
       "4        Неповна зайнятість. Досвід роботи від 1 року.   \n",
       "..                                                 ...   \n",
       "189  Повна зайнятість. Також готові взяти студента....   \n",
       "190       Повна зайнятість. Досвід роботи від 2 років.   \n",
       "191        Повна зайнятість. Досвід роботи від 1 року.   \n",
       "192  Неповна зайнятість. Також готові взяти студент...   \n",
       "193        Повна зайнятість. Досвід роботи від 1 року.   \n",
       "\n",
       "                          lenguas  \\\n",
       "0                             NaN   \n",
       "1           Англійська — середній   \n",
       "2                             NaN   \n",
       "3                             NaN   \n",
       "4                             NaN   \n",
       "..                            ...   \n",
       "189                           NaN   \n",
       "190                           NaN   \n",
       "191  Англійська — вище середнього   \n",
       "192                           NaN   \n",
       "193                           NaN   \n",
       "\n",
       "                                                skills  \n",
       "0                               [Figma, Google Sheets]  \n",
       "1    [Marketing, Adobe, Figma, Комунікабельність, A...  \n",
       "2    [Відкритість, Adobe, уважність, Уважність до д...  \n",
       "3                         [Креативность, Unity, Figma]  \n",
       "4                                  [Викладання, Figma]  \n",
       "..                                                 ...  \n",
       "189  [Створення рекламних креативів, Adobe, Blender...  \n",
       "190  [Створення рекламних креативів, офіційне праце...  \n",
       "191  [AI, Adobe, Adobe Photoshop, Дизайн, Canva, Fi...  \n",
       "192  [уважність, Уважність до деталей, Figma, Стара...  \n",
       "193  [Відкрита, Креативність, Відкритість, Adobe, В...  \n",
       "\n",
       "[194 rows x 7 columns]"
      ]
     },
     "execution_count": 18,
     "metadata": {},
     "output_type": "execute_result"
    }
   ],
   "source": [
    "df_refine_only.drop(columns=[\"requirements_x\", \"rejob_id\"], inplace=True)\n",
    "df_refine_only.rename(columns={\"requirements_y\": \"skills\"}, inplace=True)\n",
    "df_refine_only"
   ]
  },
  {
   "cell_type": "markdown",
   "id": "0b853f6f",
   "metadata": {},
   "source": [
    "Accessing Refined Skills Data"
   ]
  },
  {
   "cell_type": "code",
   "execution_count": 19,
   "id": "43a1e05b",
   "metadata": {
    "ExecuteTime": {
     "end_time": "2025-07-28T18:16:47.562367Z",
     "start_time": "2025-07-28T18:16:47.553338Z"
    }
   },
   "outputs": [
    {
     "data": {
      "text/plain": [
       "0                                 [Figma, Google Sheets]\n",
       "1      [Marketing, Adobe, Figma, Комунікабельність, A...\n",
       "2      [Відкритість, Adobe, уважність, Уважність до д...\n",
       "3                           [Креативность, Unity, Figma]\n",
       "4                                    [Викладання, Figma]\n",
       "                             ...                        \n",
       "189    [Створення рекламних креативів, Adobe, Blender...\n",
       "190    [Створення рекламних креативів, офіційне праце...\n",
       "191    [AI, Adobe, Adobe Photoshop, Дизайн, Canva, Fi...\n",
       "192    [уважність, Уважність до деталей, Figma, Стара...\n",
       "193    [Відкрита, Креативність, Відкритість, Adobe, В...\n",
       "Name: skills, Length: 194, dtype: object"
      ]
     },
     "execution_count": 19,
     "metadata": {},
     "output_type": "execute_result"
    }
   ],
   "source": [
    "df_refine_only[\"skills\"]"
   ]
  },
  {
   "cell_type": "markdown",
   "id": "571a3df3",
   "metadata": {},
   "source": [
    "#### Top 25 Most Frequent Skills in Refined IT Job Requirements\n",
    " Result: A ranked Series of the most in-demand IT skills from your dataset."
   ]
  },
  {
   "cell_type": "code",
   "execution_count": 20,
   "id": "b2149c54",
   "metadata": {
    "ExecuteTime": {
     "end_time": "2025-07-28T18:16:50.496756Z",
     "start_time": "2025-07-28T18:16:50.487280Z"
    }
   },
   "outputs": [
    {
     "data": {
      "text/plain": [
       "skills\n",
       "Figma                        193\n",
       "Adobe                        107\n",
       "досвід роботи                101\n",
       "Дизайн                        96\n",
       "Adobe Photoshop               58\n",
       "Відповідальність              54\n",
       "Креативність                  39\n",
       "AI                            32\n",
       "Adobe Illustrator             31\n",
       "Уважність                     29\n",
       "уважність                     29\n",
       "офіційне працевлаштування     28\n",
       "Canva                         28\n",
       "SMM                           27\n",
       "Уважність до деталей          24\n",
       "Midjourney                    22\n",
       "Design                        20\n",
       "Маркетинг                     19\n",
       "Ініціативність                18\n",
       "Motion                        17\n",
       "Відкритість                   12\n",
       "Гнучкість                     12\n",
       "Швидкість                     12\n",
       "Marketing                     10\n",
       "Adobe Creative Suite          10\n",
       "Name: count, dtype: int64"
      ]
     },
     "execution_count": 20,
     "metadata": {},
     "output_type": "execute_result"
    }
   ],
   "source": [
    "all_skills = df_refine_only[\"skills\"].explode().dropna()\n",
    "skill_counts = all_skills.value_counts()\n",
    "skill_counts[:25]"
   ]
  },
  {
   "cell_type": "markdown",
   "id": "1479cfb8",
   "metadata": {},
   "source": [
    "#### Prepare Keyword List\n",
    "This block reads a list of keywords to display focused search words on graphs."
   ]
  },
  {
   "cell_type": "code",
   "execution_count": 21,
   "id": "8502a3be",
   "metadata": {
    "ExecuteTime": {
     "end_time": "2025-07-28T18:16:55.871744Z",
     "start_time": "2025-07-28T18:16:55.861511Z"
    }
   },
   "outputs": [
    {
     "data": {
      "text/plain": [
       "'Figma'"
      ]
     },
     "execution_count": 21,
     "metadata": {},
     "output_type": "execute_result"
    }
   ],
   "source": [
    "words_path = os.path.join(data_path, \"words.json\")\n",
    "words = pd.read_json(words_path)\n",
    "words_to_title = words.iloc[:, 0].tolist()\n",
    "words_to_title = \" | \".join(words_to_title)\n",
    "words_to_title"
   ]
  },
  {
   "cell_type": "markdown",
   "id": "a2acdd75",
   "metadata": {},
   "source": [
    "#### Visualization of Top 25 Skills in Relevant Vacancies\n",
    "Creates a horizontal bar chart displaying the frequency of the top 25 most in-demand skills from refined job  with requirements that in  `words.json`."
   ]
  },
  {
   "cell_type": "code",
   "execution_count": 22,
   "id": "8211363e",
   "metadata": {
    "ExecuteTime": {
     "end_time": "2025-07-28T18:16:59.852623Z",
     "start_time": "2025-07-28T18:16:59.674323Z"
    }
   },
   "outputs": [
    {
     "data": {
      "text/plain": [
       "Text(0.5, 1.0, \"Frequency of skills in vacancies requiring knowledge of 'Figma' (on work.ua)\")"
      ]
     },
     "execution_count": 22,
     "metadata": {},
     "output_type": "execute_result"
    },
    {
     "data": {
      "image/png": "[encoded data removed]",
      "text/plain": [
       "<Figure size 800x500 with 1 Axes>"
      ]
     },
     "metadata": {},
     "output_type": "display_data"
    }
   ],
   "source": [
    "skill_counts.head(25).plot(kind='barh', figsize=(8,5), color='skyblue')\n",
    "plt.title(f\"Frequency of skills in vacancies requiring knowledge of '{words_to_title}' (on work.ua)\", fontsize=12)"
   ]
  },
  {
   "cell_type": "markdown",
   "id": "bfdcc301",
   "metadata": {},
   "source": [
    "#### Skill Normalization Using Mapping Dictionary\n",
    "##skill-normalization-using\n",
    "This snippet standardizes skill names within a DataFrame using a custom mapping dictionary for more consistent analysis.\n",
    "To unify different representations of the same skill (e.g. `'JS'`, `'JavaScript'`; `'English'`, `'Англійська мова'`). Helps improve the accuracy of skill frequency counts and visualizations.\n",
    "_(requires manual setup)_"
   ]
  },
  {
   "cell_type": "code",
   "execution_count": 23,
   "id": "f74dec24",
   "metadata": {
    "ExecuteTime": {
     "end_time": "2025-07-28T18:17:06.543560Z",
     "start_time": "2025-07-28T18:17:06.532046Z"
    }
   },
   "outputs": [
    {
     "data": {
      "text/plain": [
       "0                                 [Figma, Google Sheets]\n",
       "1      [Marketing, Adobe, Figma, Комунікабельність, A...\n",
       "2      [Відкритість, Adobe, уважність, Уважність до д...\n",
       "3                           [Креативность, Unity, Figma]\n",
       "4                                    [Викладання, Figma]\n",
       "                             ...                        \n",
       "189    [Створення рекламних креативів, Adobe, Blender...\n",
       "190    [Створення рекламних креативів, офіційне праце...\n",
       "191    [AI, Adobe, Adobe Photoshop, Дизайн, Canva, Fi...\n",
       "192    [уважність, Уважність до деталей, Figma, Стара...\n",
       "193    [Відкрита, Креативність, Відкритість, Adobe, В...\n",
       "Name: skills, Length: 194, dtype: object"
      ]
     },
     "execution_count": 23,
     "metadata": {},
     "output_type": "execute_result"
    }
   ],
   "source": [
    "skill_mapping = {\n",
    "    'JS': 'JavaScript',\n",
    "    'google': 'Google',\n",
    "    'Англійська мова': 'Англійська',\n",
    "    'English': 'Англійська',\n",
    "    'Знання SQL': 'SQL',\n",
    "    'Programming': 'Програмування',\n",
    "    'Системи безпеки': 'Security Systems',\n",
    "    'Design': 'Дизайн',\n",
    "    'stm32': 'STM32',\n",
    "    'Розробка ПЗ': 'Розробка',\n",
    "    'Розробка API': 'Розробка',\n",
    "    'Програмування': 'Програмування',\n",
    "    'розробка': 'Розробка',\n",
    "    'Тестування': 'Тестування',\n",
    "    'API': 'REST API',\n",
    "    'linux': 'Linux',\n",
    "    'GitHub Actions': 'GitHub',\n",
    "    'Аналітичне мислення': 'Аналітичні здібності',\n",
    "    'електроніка': 'Електроніка',\n",
    "    'nginx': 'Nginx',\n",
    "    'support': 'Support',\n",
    "    'Ведення': 'Support',\n",
    "    'Responsibility': 'Відповідальність',\n",
    "}\n",
    "\n",
    "df_refine_only['skills'] = df_refine_only['skills'].apply(\n",
    "    lambda skills: [skill_mapping.get(s.strip(), s.strip()) for s in skills]\n",
    ")\n",
    "df_refine_only['skills']"
   ]
  },
  {
   "cell_type": "code",
   "execution_count": 24,
   "id": "2a56b239",
   "metadata": {
    "ExecuteTime": {
     "end_time": "2025-07-28T18:17:12.687994Z",
     "start_time": "2025-07-28T18:17:12.492215Z"
    }
   },
   "outputs": [
    {
     "data": {
      "text/plain": [
       "Text(0.5, 1.0, \"Frequency of skills in vacancies requiring knowledge of 'Figma' (on work.ua)\")"
      ]
     },
     "execution_count": 24,
     "metadata": {},
     "output_type": "execute_result"
    },
    {
     "data": {
      "image/png": "[encoded data removed]",
      "text/plain": [
       "<Figure size 800x500 with 1 Axes>"
      ]
     },
     "metadata": {},
     "output_type": "display_data"
    }
   ],
   "source": [
    "all_skills = df_refine_only[\"skills\"].explode().dropna()\n",
    "skill_counts = all_skills.value_counts()\n",
    "skill_counts.head(25).plot(kind='barh', figsize=(8,5), color='skyblue')\n",
    "plt.title(f\"Frequency of skills in vacancies requiring knowledge of '{words_to_title}' (on work.ua)\", fontsize=12)\n"
   ]
  },
  {
   "cell_type": "markdown",
   "id": "a7440064",
   "metadata": {},
   "source": [
    "####  Next Step: Skill Categorization\n",
    "This version looks cleaner already, but it’s still not very informative in terms of the types of skills.  \n",
    "To improve clarity and deliver more meaningful insights, I plan to **categorize the skills** into three separate groups:\n",
    "- **Technical Skills**\n",
    "- **Soft Skills**\n",
    "- **General/Other Skills**"
   ]
  },
  {
   "cell_type": "markdown",
   "id": "bd4dcc05",
   "metadata": {},
   "source": [
    "#### Skill Classification and Integration"
   ]
  },
  {
   "cell_type": "code",
   "execution_count": 25,
   "id": "10f0577b",
   "metadata": {
    "ExecuteTime": {
     "end_time": "2025-07-28T18:17:22.596808Z",
     "start_time": "2025-07-28T18:17:22.448641Z"
    }
   },
   "outputs": [
    {
     "data": {
      "text/html": [
       "<div>\n",
       "<style scoped>\n",
       "    .dataframe tbody tr th:only-of-type {\n",
       "        vertical-align: middle;\n",
       "    }\n",
       "\n",
       "    .dataframe tbody tr th {\n",
       "        vertical-align: top;\n",
       "    }\n",
       "\n",
       "    .dataframe thead th {\n",
       "        text-align: right;\n",
       "    }\n",
       "</style>\n",
       "<table border=\"1\" class=\"dataframe\">\n",
       "  <thead>\n",
       "    <tr style=\"text-align: right;\">\n",
       "      <th></th>\n",
       "      <th>job_id</th>\n",
       "      <th>title</th>\n",
       "      <th>company</th>\n",
       "      <th>location</th>\n",
       "      <th>conditions</th>\n",
       "      <th>lenguas</th>\n",
       "      <th>skills</th>\n",
       "      <th>Tech</th>\n",
       "      <th>Soft</th>\n",
       "      <th>General</th>\n",
       "      <th>Not_classified</th>\n",
       "    </tr>\n",
       "  </thead>\n",
       "  <tbody>\n",
       "    <tr>\n",
       "      <th>0</th>\n",
       "      <td>6821371</td>\n",
       "      <td>Junior UI/UX Designer</td>\n",
       "      <td>WinWin Travel;Туризм; менше 10 співробітників</td>\n",
       "      <td>Дистанційна робота</td>\n",
       "      <td>Повна зайнятість, неповна зайнятість. Також го...</td>\n",
       "      <td>NaN</td>\n",
       "      <td>[Figma, Google Sheets]</td>\n",
       "      <td>[Figma, Google Sheets]</td>\n",
       "      <td>[]</td>\n",
       "      <td>[]</td>\n",
       "      <td>[]</td>\n",
       "    </tr>\n",
       "    <tr>\n",
       "      <th>1</th>\n",
       "      <td>5761195</td>\n",
       "      <td>Designer (affiliate marketing)</td>\n",
       "      <td>Punch Agency;Маркетинг, реклама, PR; 10-50 спі...</td>\n",
       "      <td>Дистанційна робота</td>\n",
       "      <td>Повна зайнятість. Досвід роботи від 1 року.</td>\n",
       "      <td>Англійська — середній</td>\n",
       "      <td>[Marketing, Adobe, Figma, Комунікабельність, A...</td>\n",
       "      <td>[Figma]</td>\n",
       "      <td>[Комунікабельність]</td>\n",
       "      <td>[Marketing]</td>\n",
       "      <td>[Adobe, Adobe Photoshop, досвід роботи]</td>\n",
       "    </tr>\n",
       "    <tr>\n",
       "      <th>2</th>\n",
       "      <td>6895120</td>\n",
       "      <td>Веб-дизайнер/дизайнерка</td>\n",
       "      <td>Starlight Media;ЗМІ, медіа; більше 1000 співро...</td>\n",
       "      <td>Дистанційна робота</td>\n",
       "      <td>Повна зайнятість. Досвід роботи від 2 років. В...</td>\n",
       "      <td>NaN</td>\n",
       "      <td>[Відкритість, Adobe, уважність, Уважність до д...</td>\n",
       "      <td>[Figma]</td>\n",
       "      <td>[Відкритість, Гнучкість, Ініціативність, Уважн...</td>\n",
       "      <td>[]</td>\n",
       "      <td>[Adobe, уважність, Уважність до деталей, Googl...</td>\n",
       "    </tr>\n",
       "    <tr>\n",
       "      <th>3</th>\n",
       "      <td>6916681</td>\n",
       "      <td>2D Artist (Mobile Games)</td>\n",
       "      <td>COG Interactive;IT; менше 10 співробітників</td>\n",
       "      <td>Дистанційна робота</td>\n",
       "      <td>Повна зайнятість. Досвід роботи від 2 років.</td>\n",
       "      <td>NaN</td>\n",
       "      <td>[Креативность, Unity, Figma]</td>\n",
       "      <td>[Unity, Figma]</td>\n",
       "      <td>[]</td>\n",
       "      <td>[]</td>\n",
       "      <td>[Креативность]</td>\n",
       "    </tr>\n",
       "    <tr>\n",
       "      <th>4</th>\n",
       "      <td>5475076</td>\n",
       "      <td>Викладач з web-дизайну</td>\n",
       "      <td>ДарвінЛенд;Освіта, наука; 10-50 співробітників</td>\n",
       "      <td>Дистанційна робота</td>\n",
       "      <td>Неповна зайнятість. Досвід роботи від 1 року.</td>\n",
       "      <td>NaN</td>\n",
       "      <td>[Викладання, Figma]</td>\n",
       "      <td>[Figma]</td>\n",
       "      <td>[Викладання]</td>\n",
       "      <td>[]</td>\n",
       "      <td>[]</td>\n",
       "    </tr>\n",
       "    <tr>\n",
       "      <th>...</th>\n",
       "      <td>...</td>\n",
       "      <td>...</td>\n",
       "      <td>...</td>\n",
       "      <td>...</td>\n",
       "      <td>...</td>\n",
       "      <td>...</td>\n",
       "      <td>...</td>\n",
       "      <td>...</td>\n",
       "      <td>...</td>\n",
       "      <td>...</td>\n",
       "      <td>...</td>\n",
       "    </tr>\n",
       "    <tr>\n",
       "      <th>189</th>\n",
       "      <td>3648402</td>\n",
       "      <td>Маркетинг-дизайнер в агентство digital-маркетингу</td>\n",
       "      <td>Blender, маркетингова агенція;Маркетинг, рекла...</td>\n",
       "      <td>NaN</td>\n",
       "      <td>Повна зайнятість. Також готові взяти студента....</td>\n",
       "      <td>NaN</td>\n",
       "      <td>[Створення рекламних креативів, Adobe, Blender...</td>\n",
       "      <td>[Blender, Figma]</td>\n",
       "      <td>[]</td>\n",
       "      <td>[]</td>\n",
       "      <td>[Створення рекламних креативів, Adobe, Google ...</td>\n",
       "    </tr>\n",
       "    <tr>\n",
       "      <th>190</th>\n",
       "      <td>6811084</td>\n",
       "      <td>Графічний дизайнер</td>\n",
       "      <td>Blest;Будівельна промисловість, деревообробка;...</td>\n",
       "      <td>NaN</td>\n",
       "      <td>Повна зайнятість. Досвід роботи від 2 років.</td>\n",
       "      <td>NaN</td>\n",
       "      <td>[Створення рекламних креативів, офіційне праце...</td>\n",
       "      <td>[Figma]</td>\n",
       "      <td>[Відповідальність]</td>\n",
       "      <td>[Дизайн]</td>\n",
       "      <td>[Створення рекламних креативів, офіційне праце...</td>\n",
       "    </tr>\n",
       "    <tr>\n",
       "      <th>191</th>\n",
       "      <td>6899164</td>\n",
       "      <td>Графічний дизайнер для e-commerce (3D, AI-конт...</td>\n",
       "      <td>AG LLC;Роздрібна торгівля; 10-50 співробітників</td>\n",
       "      <td>Дистанційна робота</td>\n",
       "      <td>Повна зайнятість. Досвід роботи від 1 року.</td>\n",
       "      <td>Англійська — вище середнього</td>\n",
       "      <td>[AI, Adobe, Adobe Photoshop, Дизайн, Canva, Fi...</td>\n",
       "      <td>[Figma]</td>\n",
       "      <td>[]</td>\n",
       "      <td>[AI, Дизайн, Canva, Моделювання]</td>\n",
       "      <td>[Adobe, Adobe Photoshop, Midjourney, 3D-моделю...</td>\n",
       "    </tr>\n",
       "    <tr>\n",
       "      <th>192</th>\n",
       "      <td>5566977</td>\n",
       "      <td>Designer</td>\n",
       "      <td>Trfman Digital LTD;Маркетинг, реклама, PR; 10-...</td>\n",
       "      <td>Дистанційна робота</td>\n",
       "      <td>Неповна зайнятість. Також готові взяти студент...</td>\n",
       "      <td>NaN</td>\n",
       "      <td>[уважність, Уважність до деталей, Figma, Стара...</td>\n",
       "      <td>[Figma]</td>\n",
       "      <td>[Уважність]</td>\n",
       "      <td>[]</td>\n",
       "      <td>[уважність, Уважність до деталей, Старанність,...</td>\n",
       "    </tr>\n",
       "    <tr>\n",
       "      <th>193</th>\n",
       "      <td>6929908</td>\n",
       "      <td>Графічний дизайнер (1+1 media)</td>\n",
       "      <td>1+1 media;ЗМІ, медіа; більше 1000 співробітників</td>\n",
       "      <td>NaN</td>\n",
       "      <td>Повна зайнятість. Досвід роботи від 1 року.</td>\n",
       "      <td>NaN</td>\n",
       "      <td>[Відкрита, Креативність, Відкритість, Adobe, В...</td>\n",
       "      <td>[Figma]</td>\n",
       "      <td>[Креативність, Відкритість, Відповідальність]</td>\n",
       "      <td>[Дизайн]</td>\n",
       "      <td>[Відкрита, Adobe, Сміливість, Adobe Photoshop,...</td>\n",
       "    </tr>\n",
       "  </tbody>\n",
       "</table>\n",
       "<p>194 rows × 11 columns</p>\n",
       "</div>"
      ],
      "text/plain": [
       "      job_id                                              title  \\\n",
       "0    6821371                              Junior UI/UX Designer   \n",
       "1    5761195                     Designer (affiliate marketing)   \n",
       "2    6895120                            Веб-дизайнер/дизайнерка   \n",
       "3    6916681                           2D Artist (Mobile Games)   \n",
       "4    5475076                             Викладач з web-дизайну   \n",
       "..       ...                                                ...   \n",
       "189  3648402  Маркетинг-дизайнер в агентство digital-маркетингу   \n",
       "190  6811084                                 Графічний дизайнер   \n",
       "191  6899164  Графічний дизайнер для e-commerce (3D, AI-конт...   \n",
       "192  5566977                                           Designer   \n",
       "193  6929908                     Графічний дизайнер (1+1 media)   \n",
       "\n",
       "                                               company            location  \\\n",
       "0        WinWin Travel;Туризм; менше 10 співробітників  Дистанційна робота   \n",
       "1    Punch Agency;Маркетинг, реклама, PR; 10-50 спі...  Дистанційна робота   \n",
       "2    Starlight Media;ЗМІ, медіа; більше 1000 співро...  Дистанційна робота   \n",
       "3          COG Interactive;IT; менше 10 співробітників  Дистанційна робота   \n",
       "4       ДарвінЛенд;Освіта, наука; 10-50 співробітників  Дистанційна робота   \n",
       "..                                                 ...                 ...   \n",
       "189  Blender, маркетингова агенція;Маркетинг, рекла...                 NaN   \n",
       "190  Blest;Будівельна промисловість, деревообробка;...                 NaN   \n",
       "191    AG LLC;Роздрібна торгівля; 10-50 співробітників  Дистанційна робота   \n",
       "192  Trfman Digital LTD;Маркетинг, реклама, PR; 10-...  Дистанційна робота   \n",
       "193   1+1 media;ЗМІ, медіа; більше 1000 співробітників                 NaN   \n",
       "\n",
       "                                            conditions  \\\n",
       "0    Повна зайнятість, неповна зайнятість. Також го...   \n",
       "1          Повна зайнятість. Досвід роботи від 1 року.   \n",
       "2    Повна зайнятість. Досвід роботи від 2 років. В...   \n",
       "3         Повна зайнятість. Досвід роботи від 2 років.   \n",
       "4        Неповна зайнятість. Досвід роботи від 1 року.   \n",
       "..                                                 ...   \n",
       "189  Повна зайнятість. Також готові взяти студента....   \n",
       "190       Повна зайнятість. Досвід роботи від 2 років.   \n",
       "191        Повна зайнятість. Досвід роботи від 1 року.   \n",
       "192  Неповна зайнятість. Також готові взяти студент...   \n",
       "193        Повна зайнятість. Досвід роботи від 1 року.   \n",
       "\n",
       "                          lenguas  \\\n",
       "0                             NaN   \n",
       "1           Англійська — середній   \n",
       "2                             NaN   \n",
       "3                             NaN   \n",
       "4                             NaN   \n",
       "..                            ...   \n",
       "189                           NaN   \n",
       "190                           NaN   \n",
       "191  Англійська — вище середнього   \n",
       "192                           NaN   \n",
       "193                           NaN   \n",
       "\n",
       "                                                skills  \\\n",
       "0                               [Figma, Google Sheets]   \n",
       "1    [Marketing, Adobe, Figma, Комунікабельність, A...   \n",
       "2    [Відкритість, Adobe, уважність, Уважність до д...   \n",
       "3                         [Креативность, Unity, Figma]   \n",
       "4                                  [Викладання, Figma]   \n",
       "..                                                 ...   \n",
       "189  [Створення рекламних креативів, Adobe, Blender...   \n",
       "190  [Створення рекламних креативів, офіційне праце...   \n",
       "191  [AI, Adobe, Adobe Photoshop, Дизайн, Canva, Fi...   \n",
       "192  [уважність, Уважність до деталей, Figma, Стара...   \n",
       "193  [Відкрита, Креативність, Відкритість, Adobe, В...   \n",
       "\n",
       "                       Tech  \\\n",
       "0    [Figma, Google Sheets]   \n",
       "1                   [Figma]   \n",
       "2                   [Figma]   \n",
       "3            [Unity, Figma]   \n",
       "4                   [Figma]   \n",
       "..                      ...   \n",
       "189        [Blender, Figma]   \n",
       "190                 [Figma]   \n",
       "191                 [Figma]   \n",
       "192                 [Figma]   \n",
       "193                 [Figma]   \n",
       "\n",
       "                                                  Soft  \\\n",
       "0                                                   []   \n",
       "1                                  [Комунікабельність]   \n",
       "2    [Відкритість, Гнучкість, Ініціативність, Уважн...   \n",
       "3                                                   []   \n",
       "4                                         [Викладання]   \n",
       "..                                                 ...   \n",
       "189                                                 []   \n",
       "190                                 [Відповідальність]   \n",
       "191                                                 []   \n",
       "192                                        [Уважність]   \n",
       "193      [Креативність, Відкритість, Відповідальність]   \n",
       "\n",
       "                              General  \\\n",
       "0                                  []   \n",
       "1                         [Marketing]   \n",
       "2                                  []   \n",
       "3                                  []   \n",
       "4                                  []   \n",
       "..                                ...   \n",
       "189                                []   \n",
       "190                          [Дизайн]   \n",
       "191  [AI, Дизайн, Canva, Моделювання]   \n",
       "192                                []   \n",
       "193                          [Дизайн]   \n",
       "\n",
       "                                        Not_classified  \n",
       "0                                                   []  \n",
       "1              [Adobe, Adobe Photoshop, досвід роботи]  \n",
       "2    [Adobe, уважність, Уважність до деталей, Googl...  \n",
       "3                                       [Креативность]  \n",
       "4                                                   []  \n",
       "..                                                 ...  \n",
       "189  [Створення рекламних креативів, Adobe, Google ...  \n",
       "190  [Створення рекламних креативів, офіційне праце...  \n",
       "191  [Adobe, Adobe Photoshop, Midjourney, 3D-моделю...  \n",
       "192  [уважність, Уважність до деталей, Старанність,...  \n",
       "193  [Відкрита, Adobe, Сміливість, Adobe Photoshop,...  \n",
       "\n",
       "[194 rows x 11 columns]"
      ]
     },
     "execution_count": 25,
     "metadata": {},
     "output_type": "execute_result"
    }
   ],
   "source": [
    "classified_df = df_refine_only[\"skills\"].apply(classify_skills)\n",
    "df_refine_only = pd.concat([df_refine_only, classified_df], axis=1)\n",
    "df_refine_only\n"
   ]
  },
  {
   "cell_type": "markdown",
   "id": "a3306e13",
   "metadata": {},
   "source": [
    "Heads-up: If you accidentally run the previous code twice. In that case, this line would output: <class 'pandas.core.frame.DataFrame'>.\n",
    "Why it matters: Code written for a Series may break or behave unexpectedly if the object is actually a DataFrame. Must be:  <class 'pandas.core.series.Series'>.\n",
    "\n",
    "If you see the wrong format, uncomment the next line, remove the columns (they are doubled) and go back to the previous point: **Skill Classification and Integration**. _Don't forget to comment again after_"
   ]
  },
  {
   "cell_type": "code",
   "execution_count": 26,
   "id": "b8eb07b2",
   "metadata": {
    "ExecuteTime": {
     "end_time": "2025-07-28T18:17:27.841289Z",
     "start_time": "2025-07-28T18:17:27.835304Z"
    }
   },
   "outputs": [
    {
     "name": "stdout",
     "output_type": "stream",
     "text": [
      "<class 'pandas.core.series.Series'>\n"
     ]
    }
   ],
   "source": [
    "\n",
    "# df_refine_only = df_refine_only.drop(columns=[\"Tech\", \"Soft\", \"General\", \"Not_classified\"])\t\n",
    "print(type(df_refine_only[\"Tech\"])) "
   ]
  },
  {
   "cell_type": "markdown",
   "id": "d5fa9cb3",
   "metadata": {},
   "source": [
    "#### Skill Count Extraction from DataFrame Columns\n",
    "This code processes four columns in the `df_refine_only` DataFrame that contain categorized skill sets.  "
   ]
  },
  {
   "cell_type": "code",
   "execution_count": 27,
   "id": "81eb1b3d",
   "metadata": {
    "ExecuteTime": {
     "end_time": "2025-07-28T18:17:31.703993Z",
     "start_time": "2025-07-28T18:17:31.696483Z"
    }
   },
   "outputs": [],
   "source": [
    "tech_counts = df_refine_only[\"Tech\"].explode().value_counts()\n",
    "soft_counts = df_refine_only[\"Soft\"].explode().value_counts()\n",
    "general_counts = df_refine_only[\"General\"].explode().value_counts()\n",
    "not_class_counts = df_refine_only[\"Not_classified\"].explode().value_counts()"
   ]
  },
  {
   "cell_type": "code",
   "execution_count": 28,
   "id": "8279e740",
   "metadata": {
    "ExecuteTime": {
     "end_time": "2025-07-28T18:17:34.584540Z",
     "start_time": "2025-07-28T18:17:34.578034Z"
    }
   },
   "outputs": [
    {
     "data": {
      "text/plain": [
       "Not_classified\n",
       "Adobe                        107\n",
       "досвід роботи                101\n",
       "Adobe Photoshop               58\n",
       "Adobe Illustrator             31\n",
       "уважність                     29\n",
       "офіційне працевлаштування     28\n",
       "SMM                           27\n",
       "Уважність до деталей          24\n",
       "Midjourney                    22\n",
       "Маркетинг                     19\n",
       "Motion                        17\n",
       "Швидкість                     12\n",
       "Adobe After Effects           10\n",
       "Adobe Creative Suite          10\n",
       "Дотримання дедлайнів           8\n",
       "Behance                        8\n",
       "CorelDRAW                      7\n",
       "Створення презентацій          7\n",
       "бажання працювати              6\n",
       "Верстка                        6\n",
       "Бажання працювати              6\n",
       "Trello                         5\n",
       "Adobe XD                       5\n",
       "Пунктуальність                 5\n",
       "Відкрита                       5\n",
       "Name: count, dtype: int64"
      ]
     },
     "execution_count": 28,
     "metadata": {},
     "output_type": "execute_result"
    }
   ],
   "source": [
    "not_class_counts[:25]"
   ]
  },
  {
   "cell_type": "markdown",
   "id": "35b017f2",
   "metadata": {},
   "source": [
    "### Visualizing Skill Frequencies by Category.\n",
    "The following code creates a 2x2 grid of horizontal bar charts to visualize the top 25 skills in each category found in vacancies related to `words.json` on work.ua."
   ]
  },
  {
   "cell_type": "code",
   "execution_count": 29,
   "id": "3dd8096b",
   "metadata": {
    "ExecuteTime": {
     "end_time": "2025-07-28T18:17:39.116221Z",
     "start_time": "2025-07-28T18:17:38.490430Z"
    }
   },
   "outputs": [
    {
     "data": {
      "image/png": "[encoded data removed]",
      "text/plain": [
       "<Figure size 1400x1000 with 4 Axes>"
      ]
     },
     "metadata": {},
     "output_type": "display_data"
    }
   ],
   "source": [
    "fig, axes = plt.subplots(2, 2, figsize=(14, 10))\n",
    "fig.suptitle(f\"Frequency of skills in vacancies requiring knowledge of '{words_to_title}' (on work.ua)\", fontsize=16)\n",
    "\n",
    "# Tech-skills\n",
    "tech_counts.head(25).plot(kind='barh', ax=axes[0,0], color='skyblue', title='Tech Skills')\n",
    "axes[0,0].invert_yaxis()\n",
    "\n",
    "# Soft-skills\n",
    "soft_counts.head(25).plot(kind='barh', ax=axes[0,1], color='orange', title='Soft Skills')\n",
    "axes[0,1].invert_yaxis()\n",
    "\n",
    "# General-skills\n",
    "general_counts.head(25).plot(kind='barh', ax=axes[1,0], color='lightgreen', title='General Skills')\n",
    "axes[1,0].invert_yaxis()\n",
    "\n",
    "# Not_classified\n",
    "not_class_counts.head(25).plot(kind='barh', ax=axes[1,1], color='lightcoral', title='Not Classified')\n",
    "axes[1,1].invert_yaxis()\n",
    "\n",
    "plt.tight_layout(rect=[0, 0, 1, 0.96])\n",
    "plt.show()\n"
   ]
  },
  {
   "cell_type": "markdown",
   "id": "037dd13b",
   "metadata": {},
   "source": [
    "#### Skill Categorization Note.\n",
    "We pay special attention to the listed skills, as it's possible that some of them may have been accidentally assigned to the wrong category. Go to **Skill Normalization Using Mapping Dictionary**.\n",
    "However, our main focus is on the **\"Not Cclassified\"** skills.\n",
    "If we notice that certain skills appear frequently in this category—and they clearly belong to one of the known classifications (e.g. Tech, Soft, or General)—then it's recommended to reassign them to the appropriate skill category for a more accurate qualification mapping.\n",
    "\n",
    "**_This can be done in the `analysis/skills_by_classe.json` file. Simply add the skill  (that not classified) to the appropriate category._**"
   ]
  },
  {
   "cell_type": "code",
   "execution_count": 30,
   "id": "1d158f13",
   "metadata": {
    "ExecuteTime": {
     "end_time": "2025-07-28T18:17:49.049731Z",
     "start_time": "2025-07-28T18:17:49.041395Z"
    }
   },
   "outputs": [
    {
     "data": {
      "text/plain": [
       "Not_classified\n",
       "Adobe                        107\n",
       "досвід роботи                101\n",
       "Adobe Photoshop               58\n",
       "Adobe Illustrator             31\n",
       "уважність                     29\n",
       "офіційне працевлаштування     28\n",
       "SMM                           27\n",
       "Уважність до деталей          24\n",
       "Midjourney                    22\n",
       "Маркетинг                     19\n",
       "Motion                        17\n",
       "Швидкість                     12\n",
       "Adobe After Effects           10\n",
       "Adobe Creative Suite          10\n",
       "Дотримання дедлайнів           8\n",
       "Behance                        8\n",
       "CorelDRAW                      7\n",
       "Створення презентацій          7\n",
       "бажання працювати              6\n",
       "Верстка                        6\n",
       "Бажання працювати              6\n",
       "Trello                         5\n",
       "Adobe XD                       5\n",
       "Пунктуальність                 5\n",
       "Відкрита                       5\n",
       "Name: count, dtype: int64"
      ]
     },
     "execution_count": 30,
     "metadata": {},
     "output_type": "execute_result"
    }
   ],
   "source": [
    "not_class_counts[0:25]"
   ]
  },
  {
   "cell_type": "code",
   "execution_count": null,
   "id": "e16dd8d5-17f9-4765-a816-8bd8e5813650",
   "metadata": {},
   "outputs": [],
   "source": []
  },
  {
   "cell_type": "code",
   "execution_count": null,
   "id": "edc88db1-a0dc-4c51-ae3c-53132d27a074",
   "metadata": {},
   "outputs": [],
   "source": []
  }
 ],
 "metadata": {
  "kernelspec": {
   "display_name": "Python 3 (ipykernel)",
   "language": "python",
   "name": "python3"
  },
  "language_info": {
   "codemirror_mode": {
    "name": "ipython",
    "version": 3
   },
   "file_extension": ".py",
   "mimetype": "text/x-python",
   "name": "python",
   "nbconvert_exporter": "python",
   "pygments_lexer": "ipython3",
   "version": "3.12.4"
  }
 },
 "nbformat": 4,
 "nbformat_minor": 5
}
